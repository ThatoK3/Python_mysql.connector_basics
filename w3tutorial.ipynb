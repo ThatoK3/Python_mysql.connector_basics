{
 "cells": [
  {
   "cell_type": "code",
   "execution_count": 2,
   "metadata": {},
   "outputs": [],
   "source": [
    "import mysql.connector"
   ]
  },
  {
   "cell_type": "code",
   "execution_count": 3,
   "metadata": {},
   "outputs": [],
   "source": [
    "# Headings <p style=\"border: 1px solid green; padding: 20px; background: orange; text-align: center \">str</p>"
   ]
  },
  {
   "cell_type": "code",
   "execution_count": 4,
   "metadata": {},
   "outputs": [],
   "source": [
    "f = open(\"root.csv\", \"r\") ; data= f.read()[3:21] ; user , ppw = data[:4] , data[5:]"
   ]
  },
  {
   "cell_type": "markdown",
   "metadata": {},
   "source": [
    "<p style=\"border: 1px solid green; padding: 20px; background: orange; text-align: center \">Create mydatabase DB</p>"
   ]
  },
  {
   "cell_type": "code",
   "execution_count": 5,
   "metadata": {},
   "outputs": [],
   "source": [
    "mydb = mysql.connector.connect(\n",
    "  host=\"localhost\",\n",
    "  user=user,\n",
    "  password=ppw\n",
    ")\n",
    "\n",
    "mycursor = mydb.cursor()\n",
    "\n",
    "#mycursor.execute(\"CREATE DATABASE mydatabase\")"
   ]
  },
  {
   "cell_type": "markdown",
   "metadata": {},
   "source": [
    "<p style=\"border: 1px solid green; padding: 20px; background: orange; text-align: center \">Show a list of databases in the comp. system</p>"
   ]
  },
  {
   "cell_type": "code",
   "execution_count": 4,
   "metadata": {},
   "outputs": [
    {
     "name": "stdout",
     "output_type": "stream",
     "text": [
      "('companydatabase',)\n",
      "('faname',)\n",
      "('information_schema',)\n",
      "('mydatabase',)\n",
      "('mydatabase001',)\n",
      "('mydatabase002',)\n",
      "('mysql',)\n",
      "('performance_schema',)\n",
      "('sakila',)\n",
      "('sys',)\n",
      "('world',)\n"
     ]
    }
   ],
   "source": [
    "mycursor.execute(\"SHOW DATABASES\")\n",
    "\n",
    "for x in mycursor:\n",
    "  print(x)"
   ]
  },
  {
   "cell_type": "markdown",
   "metadata": {},
   "source": [
    "Headings <p style=\"border: 1px solid green; padding: 20px; background: orange; text-align: center \">Connect to DB</p>"
   ]
  },
  {
   "cell_type": "code",
   "execution_count": 77,
   "metadata": {},
   "outputs": [],
   "source": [
    "mydb = mysql.connector.connect(\n",
    "  host=\"localhost\",\n",
    "  user=user,\n",
    "  password=ppw,\n",
    "  database=\"mydatabase\"\n",
    ")\n"
   ]
  },
  {
   "cell_type": "markdown",
   "metadata": {},
   "source": [
    "<p style=\"border: 1px solid green; padding: 20px; background: orange; text-align: center \">Create table and make table inserts</p>"
   ]
  },
  {
   "cell_type": "code",
   "execution_count": 7,
   "metadata": {},
   "outputs": [],
   "source": [
    "mycursor = mydb.cursor()"
   ]
  },
  {
   "cell_type": "code",
   "execution_count": 8,
   "metadata": {},
   "outputs": [],
   "source": [
    "mycursor.execute(\"CREATE TABLE customers (id INT AUTO_INCREMENT PRIMARY KEY, name VARCHAR(255), address VARCHAR(255))\")"
   ]
  },
  {
   "cell_type": "markdown",
   "metadata": {},
   "source": [
    "<p style=\"text-align:center\">Check if the created table exists</p>\n",
    "<div style=\"border:1px solid green\"></div>"
   ]
  },
  {
   "cell_type": "code",
   "execution_count": 9,
   "metadata": {},
   "outputs": [
    {
     "name": "stdout",
     "output_type": "stream",
     "text": [
      "('customers',)\n"
     ]
    }
   ],
   "source": [
    "mycursor.execute(\"SHOW TABLES\")\n",
    "\n",
    "for x in mycursor:\n",
    "  print(x)"
   ]
  },
  {
   "cell_type": "markdown",
   "metadata": {},
   "source": [
    "<p style=\"text-align:center\">Create primary key on an existing table</p>\n",
    "<div style=\"border:1px solid green\"></div>"
   ]
  },
  {
   "cell_type": "code",
   "execution_count": 10,
   "metadata": {},
   "outputs": [],
   "source": [
    "# Alternatively one can omit a primary key when creating a table then add it later\n",
    "# mycursor.execute(\"CREATE TABLE customers (name VARCHAR(255), address VARCHAR(255))\")\n",
    "# mycursor.execute(\"ALTER TABLE customers ADD COLUMN id INT AUTO_INCREMENT PRIMARY KEY\")"
   ]
  },
  {
   "cell_type": "markdown",
   "metadata": {},
   "source": [
    "<p style=\"text-align:center\">Insert a record in the \"customers\" table</p>\n",
    "<div style=\"border:1px solid green\"></div>"
   ]
  },
  {
   "cell_type": "code",
   "execution_count": 11,
   "metadata": {},
   "outputs": [],
   "source": [
    "sql = \"INSERT INTO customers (name , address) VALUES (%s , %s)\""
   ]
  },
  {
   "cell_type": "code",
   "execution_count": 12,
   "metadata": {},
   "outputs": [],
   "source": [
    "val = (\"John\" , \"Highway 21\")"
   ]
  },
  {
   "cell_type": "code",
   "execution_count": 13,
   "metadata": {},
   "outputs": [],
   "source": [
    "mycursor.execute(sql, val)"
   ]
  },
  {
   "cell_type": "code",
   "execution_count": 14,
   "metadata": {},
   "outputs": [],
   "source": [
    "mydb.commit()"
   ]
  },
  {
   "cell_type": "code",
   "execution_count": 15,
   "metadata": {},
   "outputs": [
    {
     "name": "stdout",
     "output_type": "stream",
     "text": [
      "1 record inserted.\n"
     ]
    }
   ],
   "source": [
    "print( mycursor.rowcount , \"record inserted.\")"
   ]
  },
  {
   "cell_type": "markdown",
   "metadata": {},
   "source": [
    "<p style=\"text-align:center\">Insert multiple rows in the \"customers\" table</p>\n",
    "<div style=\"border:1px solid green\"></div>"
   ]
  },
  {
   "cell_type": "code",
   "execution_count": 16,
   "metadata": {},
   "outputs": [],
   "source": [
    "# sql = \"INSERT INTO customers (name, address) VALUES (%s, %s)\""
   ]
  },
  {
   "cell_type": "code",
   "execution_count": 17,
   "metadata": {},
   "outputs": [],
   "source": [
    "val = [\n",
    "  ('Peter', 'Lowstreet 4'),\n",
    "  ('Amy', 'Apple st 652'),\n",
    "  ('Hannah', 'Mountain 21'),\n",
    "  ('Michael', 'Valley 345'),\n",
    "  ('Sandy', 'Ocean blvd 2'),\n",
    "  ('Betty', 'Green Grass 1'),\n",
    "  ('Richard', 'Sky st 331'),\n",
    "  ('Susan', 'One way 98'),\n",
    "  ('Vicky', 'Yellow Garden 2'),\n",
    "  ('Ben', 'Park Lane 38'),\n",
    "  ('William', 'Central st 954'),\n",
    "  ('Chuck', 'Main Road 989'),\n",
    "  ('Viola', 'Sideway 1633')\n",
    "]"
   ]
  },
  {
   "cell_type": "code",
   "execution_count": 18,
   "metadata": {},
   "outputs": [],
   "source": [
    "mycursor.executemany(sql, val)"
   ]
  },
  {
   "cell_type": "code",
   "execution_count": 19,
   "metadata": {},
   "outputs": [],
   "source": [
    "mydb.commit()"
   ]
  },
  {
   "cell_type": "code",
   "execution_count": 20,
   "metadata": {},
   "outputs": [
    {
     "name": "stdout",
     "output_type": "stream",
     "text": [
      "13 was inserted.\n"
     ]
    }
   ],
   "source": [
    "print(mycursor.rowcount, \"was inserted.\")"
   ]
  },
  {
   "cell_type": "markdown",
   "metadata": {},
   "source": [
    "<p style=\"text-align:center\">Insert one row, and return the ID</p>\n",
    "<div style=\"border:1px solid green\"></div>"
   ]
  },
  {
   "cell_type": "code",
   "execution_count": 21,
   "metadata": {},
   "outputs": [],
   "source": [
    "val = (\"Michelle\", \"Blue Village\")\n",
    "mycursor.execute(sql, val)"
   ]
  },
  {
   "cell_type": "code",
   "execution_count": 22,
   "metadata": {},
   "outputs": [],
   "source": [
    "mydb.commit()"
   ]
  },
  {
   "cell_type": "code",
   "execution_count": 23,
   "metadata": {},
   "outputs": [
    {
     "name": "stdout",
     "output_type": "stream",
     "text": [
      "1 record inserted, ID: 15\n"
     ]
    }
   ],
   "source": [
    "print(\"1 record inserted, ID:\", mycursor.lastrowid)"
   ]
  },
  {
   "cell_type": "markdown",
   "metadata": {},
   "source": [
    "<p style=\"border: 1px solid green; padding: 20px; background: orange; text-align: center \">Select from operations</p>"
   ]
  },
  {
   "cell_type": "code",
   "execution_count": 24,
   "metadata": {},
   "outputs": [],
   "source": [
    "mycursor.execute(\"SELECT * FROM customers\")"
   ]
  },
  {
   "cell_type": "code",
   "execution_count": 25,
   "metadata": {},
   "outputs": [],
   "source": [
    "myresult = mycursor.fetchall()"
   ]
  },
  {
   "cell_type": "code",
   "execution_count": 26,
   "metadata": {},
   "outputs": [
    {
     "name": "stdout",
     "output_type": "stream",
     "text": [
      "(1, 'John', 'Highway 21')\n",
      "(2, 'Peter', 'Lowstreet 4')\n",
      "(3, 'Amy', 'Apple st 652')\n",
      "(4, 'Hannah', 'Mountain 21')\n",
      "(5, 'Michael', 'Valley 345')\n",
      "(6, 'Sandy', 'Ocean blvd 2')\n",
      "(7, 'Betty', 'Green Grass 1')\n",
      "(8, 'Richard', 'Sky st 331')\n",
      "(9, 'Susan', 'One way 98')\n",
      "(10, 'Vicky', 'Yellow Garden 2')\n",
      "(11, 'Ben', 'Park Lane 38')\n",
      "(12, 'William', 'Central st 954')\n",
      "(13, 'Chuck', 'Main Road 989')\n",
      "(14, 'Viola', 'Sideway 1633')\n",
      "(15, 'Michelle', 'Blue Village')\n"
     ]
    }
   ],
   "source": [
    "for x in myresult:\n",
    "  print(x)"
   ]
  },
  {
   "cell_type": "code",
   "execution_count": 27,
   "metadata": {},
   "outputs": [
    {
     "name": "stdout",
     "output_type": "stream",
     "text": [
      "(1, 'John', 'Highway 21')\n"
     ]
    }
   ],
   "source": [
    "mycursor.execute(\"SELECT * FROM customers\")\n",
    "myresult = mycursor.fetchone()\n",
    "print(myresult)"
   ]
  },
  {
   "cell_type": "markdown",
   "metadata": {},
   "source": [
    "<p style=\"border: 1px solid green; padding: 20px; background: orange; text-align: center \">Where operation</p>"
   ]
  },
  {
   "cell_type": "code",
   "execution_count": 97,
   "metadata": {},
   "outputs": [],
   "source": [
    "mydb = mysql.connector.connect(\n",
    "  host=\"localhost\",\n",
    "  user=user,\n",
    "  password=ppw,\n",
    "  database=\"mydatabase\"\n",
    ")"
   ]
  },
  {
   "cell_type": "code",
   "execution_count": 98,
   "metadata": {},
   "outputs": [],
   "source": [
    "mycursor = mydb.cursor()"
   ]
  },
  {
   "cell_type": "code",
   "execution_count": 30,
   "metadata": {},
   "outputs": [],
   "source": [
    "sql = \"SELECT * FROM customers WHERE address ='Park Lane 38'\""
   ]
  },
  {
   "cell_type": "code",
   "execution_count": 31,
   "metadata": {},
   "outputs": [],
   "source": [
    "mycursor.execute(sql)"
   ]
  },
  {
   "cell_type": "code",
   "execution_count": 32,
   "metadata": {},
   "outputs": [],
   "source": [
    "myresult = mycursor.fetchall()"
   ]
  },
  {
   "cell_type": "code",
   "execution_count": 33,
   "metadata": {},
   "outputs": [
    {
     "name": "stdout",
     "output_type": "stream",
     "text": [
      "(11, 'Ben', 'Park Lane 38')\n"
     ]
    }
   ],
   "source": [
    "for x in myresult:\n",
    "  print(x)"
   ]
  },
  {
   "cell_type": "markdown",
   "metadata": {},
   "source": [
    "<p style=\"text-align:center\">Wildcard characters</p>\n",
    "<div style=\"border:1px solid green\"></div>"
   ]
  },
  {
   "cell_type": "code",
   "execution_count": 34,
   "metadata": {},
   "outputs": [],
   "source": [
    "# Select records where the address contains the word \"way\"\n",
    "sql = \"SELECT * FROM customers WHERE address LIKE '%way%'\""
   ]
  },
  {
   "cell_type": "code",
   "execution_count": 35,
   "metadata": {},
   "outputs": [],
   "source": [
    "mycursor.execute(sql)"
   ]
  },
  {
   "cell_type": "code",
   "execution_count": 36,
   "metadata": {},
   "outputs": [],
   "source": [
    "myresult = mycursor.fetchall()"
   ]
  },
  {
   "cell_type": "code",
   "execution_count": 37,
   "metadata": {},
   "outputs": [
    {
     "name": "stdout",
     "output_type": "stream",
     "text": [
      "(1, 'John', 'Highway 21')\n",
      "(9, 'Susan', 'One way 98')\n",
      "(14, 'Viola', 'Sideway 1633')\n"
     ]
    }
   ],
   "source": [
    "for x in myresult:\n",
    "  print(x)"
   ]
  },
  {
   "cell_type": "code",
   "execution_count": 38,
   "metadata": {},
   "outputs": [],
   "source": [
    "sql = \"SELECT * FROM customers WHERE address = %s\"\n",
    "adr = (\"Yellow Garden 2\", )"
   ]
  },
  {
   "cell_type": "code",
   "execution_count": 39,
   "metadata": {},
   "outputs": [],
   "source": [
    "mycursor.execute(sql, adr)"
   ]
  },
  {
   "cell_type": "code",
   "execution_count": 40,
   "metadata": {},
   "outputs": [],
   "source": [
    "myresult = mycursor.fetchall()"
   ]
  },
  {
   "cell_type": "code",
   "execution_count": 41,
   "metadata": {},
   "outputs": [
    {
     "name": "stdout",
     "output_type": "stream",
     "text": [
      "(10, 'Vicky', 'Yellow Garden 2')\n"
     ]
    }
   ],
   "source": [
    "for x in myresult:\n",
    "  print(x)"
   ]
  },
  {
   "cell_type": "markdown",
   "metadata": {},
   "source": [
    "<p style=\"border: 1px solid green; padding: 20px; background: orange; text-align: center \">Order operations</p>"
   ]
  },
  {
   "cell_type": "markdown",
   "metadata": {},
   "source": [
    "<p style=\"text-align:center\">Order by name</p>\n",
    "<div style=\"border:1px solid green\"></div>"
   ]
  },
  {
   "cell_type": "code",
   "execution_count": 42,
   "metadata": {},
   "outputs": [],
   "source": [
    "sql = \"SELECT * FROM customers ORDER BY name ASC\" # Can also order by DESC "
   ]
  },
  {
   "cell_type": "code",
   "execution_count": 43,
   "metadata": {},
   "outputs": [],
   "source": [
    "mycursor.execute(sql)"
   ]
  },
  {
   "cell_type": "code",
   "execution_count": 44,
   "metadata": {},
   "outputs": [],
   "source": [
    "myresult = mycursor.fetchall()"
   ]
  },
  {
   "cell_type": "code",
   "execution_count": 45,
   "metadata": {},
   "outputs": [
    {
     "name": "stdout",
     "output_type": "stream",
     "text": [
      "(3, 'Amy', 'Apple st 652')\n",
      "(11, 'Ben', 'Park Lane 38')\n",
      "(7, 'Betty', 'Green Grass 1')\n",
      "(13, 'Chuck', 'Main Road 989')\n",
      "(4, 'Hannah', 'Mountain 21')\n",
      "(1, 'John', 'Highway 21')\n",
      "(5, 'Michael', 'Valley 345')\n",
      "(15, 'Michelle', 'Blue Village')\n",
      "(2, 'Peter', 'Lowstreet 4')\n",
      "(8, 'Richard', 'Sky st 331')\n",
      "(6, 'Sandy', 'Ocean blvd 2')\n",
      "(9, 'Susan', 'One way 98')\n",
      "(10, 'Vicky', 'Yellow Garden 2')\n",
      "(14, 'Viola', 'Sideway 1633')\n",
      "(12, 'William', 'Central st 954')\n"
     ]
    }
   ],
   "source": [
    "for x in myresult:\n",
    "  print(x)"
   ]
  },
  {
   "cell_type": "markdown",
   "metadata": {},
   "source": [
    "<p style=\"border: 1px solid green; padding: 20px; background: orange; text-align: center \">Delete record</p>"
   ]
  },
  {
   "cell_type": "code",
   "execution_count": 46,
   "metadata": {},
   "outputs": [],
   "source": [
    "sql = \"DELETE FROM customers WHERE address = 'Mountain 21'\""
   ]
  },
  {
   "cell_type": "code",
   "execution_count": 47,
   "metadata": {},
   "outputs": [],
   "source": [
    "mycursor.execute(sql)"
   ]
  },
  {
   "cell_type": "code",
   "execution_count": 48,
   "metadata": {},
   "outputs": [],
   "source": [
    "mydb.commit()"
   ]
  },
  {
   "cell_type": "code",
   "execution_count": 49,
   "metadata": {},
   "outputs": [
    {
     "name": "stdout",
     "output_type": "stream",
     "text": [
      "1 record(s) deleted\n"
     ]
    }
   ],
   "source": [
    "print(mycursor.rowcount, \"record(s) deleted\")"
   ]
  },
  {
   "cell_type": "code",
   "execution_count": 50,
   "metadata": {},
   "outputs": [
    {
     "name": "stdout",
     "output_type": "stream",
     "text": [
      "1 record(s) deleted\n"
     ]
    }
   ],
   "source": [
    "# escape %s deletion method\n",
    "sql = \"DELETE FROM customers WHERE address = %s\"\n",
    "adr = (\"Yellow Garden 2\", )\n",
    "\n",
    "mycursor.execute(sql, adr)\n",
    "\n",
    "mydb.commit()\n",
    "\n",
    "print(mycursor.rowcount, \"record(s) deleted\")"
   ]
  },
  {
   "cell_type": "markdown",
   "metadata": {},
   "source": [
    "<p style=\"border: 1px solid green; padding: 20px; background: orange; text-align: center \">Delete table</p>"
   ]
  },
  {
   "cell_type": "code",
   "execution_count": 53,
   "metadata": {},
   "outputs": [],
   "source": [
    "sql = \"DROP TABLE notcustomers\""
   ]
  },
  {
   "cell_type": "markdown",
   "metadata": {},
   "source": [
    "<p style=\"text-align:center\">Drop if exist (to escape the error above)</p>\n",
    "<div style=\"border:1px solid green\"></div>"
   ]
  },
  {
   "cell_type": "code",
   "execution_count": 62,
   "metadata": {},
   "outputs": [],
   "source": [
    "sql = \"DROP TABLE IF EXISTS notcustomers\""
   ]
  },
  {
   "cell_type": "code",
   "execution_count": 63,
   "metadata": {},
   "outputs": [],
   "source": [
    "mycursor.execute(sql) "
   ]
  },
  {
   "cell_type": "markdown",
   "metadata": {},
   "source": [
    "<p style=\"border: 1px solid green; padding: 20px; background: orange; text-align: center \">Update table</p>"
   ]
  },
  {
   "cell_type": "code",
   "execution_count": 57,
   "metadata": {},
   "outputs": [],
   "source": [
    "sql = \"UPDATE customers SET address = 'Canyon 123' WHERE address = 'Valley 345'\""
   ]
  },
  {
   "cell_type": "code",
   "execution_count": 58,
   "metadata": {},
   "outputs": [],
   "source": [
    "mycursor.execute(sql)"
   ]
  },
  {
   "cell_type": "code",
   "execution_count": 59,
   "metadata": {},
   "outputs": [],
   "source": [
    "mydb.commit()"
   ]
  },
  {
   "cell_type": "code",
   "execution_count": 60,
   "metadata": {},
   "outputs": [
    {
     "name": "stdout",
     "output_type": "stream",
     "text": [
      "1 record(s) affected\n"
     ]
    }
   ],
   "source": [
    "print(mycursor.rowcount, \"record(s) affected\")"
   ]
  },
  {
   "cell_type": "code",
   "execution_count": 64,
   "metadata": {},
   "outputs": [],
   "source": [
    "# %s placeholder value escape "
   ]
  },
  {
   "cell_type": "markdown",
   "metadata": {},
   "source": [
    "<p style=\"border: 1px solid green; padding: 20px; background: orange; text-align: center \">Limit operation</p>"
   ]
  },
  {
   "cell_type": "code",
   "execution_count": 65,
   "metadata": {},
   "outputs": [],
   "source": [
    "mycursor.execute(\"SELECT * FROM customers LIMIT 5\")"
   ]
  },
  {
   "cell_type": "code",
   "execution_count": 66,
   "metadata": {},
   "outputs": [],
   "source": [
    "myresult = mycursor.fetchall()"
   ]
  },
  {
   "cell_type": "code",
   "execution_count": 67,
   "metadata": {},
   "outputs": [
    {
     "name": "stdout",
     "output_type": "stream",
     "text": [
      "(1, 'John', 'Highway 21')\n",
      "(2, 'Peter', 'Lowstreet 4')\n",
      "(3, 'Amy', 'Apple st 652')\n",
      "(5, 'Michael', 'Canyon 123')\n",
      "(6, 'Sandy', 'Ocean blvd 2')\n"
     ]
    }
   ],
   "source": [
    "for x in myresult:\n",
    "  print(x)"
   ]
  },
  {
   "cell_type": "markdown",
   "metadata": {},
   "source": [
    "<p style=\"text-align:center\">Index from another position</p>\n",
    "<div style=\"border:1px solid green\"></div>"
   ]
  },
  {
   "cell_type": "code",
   "execution_count": 72,
   "metadata": {},
   "outputs": [],
   "source": [
    "# Starts from position 3 and returns 5 records.\n",
    "mycursor.execute(\"SELECT * FROM customers LIMIT 5 OFFSET 2\")"
   ]
  },
  {
   "cell_type": "code",
   "execution_count": 73,
   "metadata": {},
   "outputs": [],
   "source": [
    "myresult = mycursor.fetchall()"
   ]
  },
  {
   "cell_type": "code",
   "execution_count": 74,
   "metadata": {},
   "outputs": [
    {
     "name": "stdout",
     "output_type": "stream",
     "text": [
      "(3, 'Amy', 'Apple st 652')\n",
      "(5, 'Michael', 'Canyon 123')\n",
      "(6, 'Sandy', 'Ocean blvd 2')\n",
      "(7, 'Betty', 'Green Grass 1')\n",
      "(8, 'Richard', 'Sky st 331')\n"
     ]
    }
   ],
   "source": [
    "for x in myresult:\n",
    "  print(x)"
   ]
  },
  {
   "cell_type": "markdown",
   "metadata": {},
   "source": [
    "<p style=\"border: 1px solid green; padding: 20px; background: orange; text-align: center \">Join operation</p>"
   ]
  },
  {
   "cell_type": "markdown",
   "metadata": {},
   "source": [
    "<p style=\"text-align:center\">Create users table</p>\n",
    "<div style=\"border:1px solid green\"></div>"
   ]
  },
  {
   "cell_type": "code",
   "execution_count": 155,
   "metadata": {},
   "outputs": [],
   "source": [
    "mycursor.execute(\"CREATE TABLE users (id INT PRIMARY KEY, name VARCHAR(255), fav INT)\")"
   ]
  },
  {
   "cell_type": "code",
   "execution_count": 154,
   "metadata": {},
   "outputs": [],
   "source": [
    "mycursor.execute(\"DROP TABLE users\")"
   ]
  },
  {
   "cell_type": "code",
   "execution_count": 156,
   "metadata": {},
   "outputs": [],
   "source": [
    "sql = \"INSERT INTO users (id, name, fav) VALUES (%s, %s , %s)\""
   ]
  },
  {
   "cell_type": "code",
   "execution_count": 157,
   "metadata": {},
   "outputs": [],
   "source": [
    "val = [\n",
    "    (1,'John', 154),\n",
    "    (2,'Peter', 154),\n",
    "    (3,'Amy', 155),\n",
    "    (4,'Hannah', None),\n",
    "    (5,'Michael', None)\n",
    "]"
   ]
  },
  {
   "cell_type": "code",
   "execution_count": 158,
   "metadata": {},
   "outputs": [],
   "source": [
    "mycursor.executemany(sql, val)"
   ]
  },
  {
   "cell_type": "code",
   "execution_count": 159,
   "metadata": {},
   "outputs": [],
   "source": [
    "mydb.commit()"
   ]
  },
  {
   "cell_type": "code",
   "execution_count": 160,
   "metadata": {},
   "outputs": [
    {
     "name": "stdout",
     "output_type": "stream",
     "text": [
      "5 was inserted.\n"
     ]
    }
   ],
   "source": [
    "print(mycursor.rowcount, \"was inserted.\")"
   ]
  },
  {
   "cell_type": "markdown",
   "metadata": {},
   "source": [
    "<p style=\"text-align:center\">Create products table</p>\n",
    "<div style=\"border:1px solid green\"></div>"
   ]
  },
  {
   "cell_type": "code",
   "execution_count": 141,
   "metadata": {},
   "outputs": [],
   "source": [
    "mycursor.execute(\"CREATE TABLE products (id INT PRIMARY KEY, name VARCHAR(255))\")"
   ]
  },
  {
   "cell_type": "code",
   "execution_count": 140,
   "metadata": {},
   "outputs": [],
   "source": [
    "mycursor.execute(\"DROP TABLE products\")"
   ]
  },
  {
   "cell_type": "code",
   "execution_count": 143,
   "metadata": {},
   "outputs": [],
   "source": [
    "sql = \"INSERT INTO products (id, name) VALUES (%s, %s)\""
   ]
  },
  {
   "cell_type": "code",
   "execution_count": 144,
   "metadata": {},
   "outputs": [],
   "source": [
    "val = [\n",
    "    (154 , 'Chocolate Heaven'),\n",
    "    (155 , 'Tasty Lemons'),\n",
    "    (156 , 'Vanilla Dreams')\n",
    "]"
   ]
  },
  {
   "cell_type": "code",
   "execution_count": 145,
   "metadata": {},
   "outputs": [],
   "source": [
    "mycursor.executemany(sql, val)"
   ]
  },
  {
   "cell_type": "code",
   "execution_count": 146,
   "metadata": {},
   "outputs": [],
   "source": [
    "mydb.commit()"
   ]
  },
  {
   "cell_type": "code",
   "execution_count": 147,
   "metadata": {},
   "outputs": [
    {
     "name": "stdout",
     "output_type": "stream",
     "text": [
      "3 was inserted.\n"
     ]
    }
   ],
   "source": [
    "print(mycursor.rowcount, \"was inserted.\")"
   ]
  },
  {
   "cell_type": "markdown",
   "metadata": {},
   "source": [
    "<p style=\"text-align:center\">Join operation</p>\n",
    "<div style=\"border:1px solid green\"></div>"
   ]
  },
  {
   "cell_type": "code",
   "execution_count": 161,
   "metadata": {},
   "outputs": [],
   "source": [
    "mydb = mysql.connector.connect(\n",
    "  host=\"localhost\",\n",
    "  user=user,\n",
    "  password=ppw,\n",
    "  database=\"mydatabase\"\n",
    ")"
   ]
  },
  {
   "cell_type": "code",
   "execution_count": 162,
   "metadata": {},
   "outputs": [],
   "source": [
    "mycursor = mydb.cursor()"
   ]
  },
  {
   "cell_type": "code",
   "execution_count": 175,
   "metadata": {},
   "outputs": [],
   "source": [
    "sql = \"SELECT \\\n",
    "  users.name AS user, \\\n",
    "  products.name AS favorite \\\n",
    "  FROM users \\\n",
    "  INNER JOIN products ON users.fav = products.id\""
   ]
  },
  {
   "cell_type": "code",
   "execution_count": 176,
   "metadata": {},
   "outputs": [],
   "source": [
    "mycursor.execute(sql)"
   ]
  },
  {
   "cell_type": "code",
   "execution_count": 177,
   "metadata": {},
   "outputs": [],
   "source": [
    "myresult = mycursor.fetchall()"
   ]
  },
  {
   "cell_type": "code",
   "execution_count": 178,
   "metadata": {},
   "outputs": [
    {
     "name": "stdout",
     "output_type": "stream",
     "text": [
      "('John', 'Chocolate Heaven')\n",
      "('Peter', 'Chocolate Heaven')\n",
      "('Amy', 'Tasty Lemons')\n"
     ]
    }
   ],
   "source": [
    "for x in myresult:\n",
    "  print(x)"
   ]
  },
  {
   "cell_type": "markdown",
   "metadata": {},
   "source": [
    "<p style=\"text-align:center\">Select all users and their favorite product // Left Join</p>\n",
    "<div style=\"border:1px solid green\"></div>"
   ]
  },
  {
   "cell_type": "code",
   "execution_count": 167,
   "metadata": {},
   "outputs": [],
   "source": [
    "sql = \"SELECT \\\n",
    "  users.name AS user, \\\n",
    "  products.name AS favorite \\\n",
    "  FROM users \\\n",
    "  LEFT JOIN products ON users.fav = products.id\""
   ]
  },
  {
   "cell_type": "markdown",
   "metadata": {},
   "source": [
    "<p style=\"text-align:center\">Select all products, and the user(s) who have them as their favorite // Right Join</p>\n",
    "<div style=\"border:1px solid green\"></div>"
   ]
  },
  {
   "cell_type": "code",
   "execution_count": 171,
   "metadata": {},
   "outputs": [],
   "source": [
    "sql = \"SELECT \\\n",
    "  users.name AS user, \\\n",
    "  products.name AS favorite \\\n",
    "  FROM users \\\n",
    "  RIGHT JOIN products ON users.fav = products.id\""
   ]
  },
  {
   "cell_type": "markdown",
   "metadata": {},
   "source": [
    "<p style=\"border: 1px solid green; padding: 20px; background: orange; text-align: center \">Main SQL Tutorial</p>"
   ]
  },
  {
   "cell_type": "markdown",
   "metadata": {},
   "source": [
    "<p style=\"border: 1px solid green; padding: 20px; background: orange; text-align: center \">Full DB Course</p>"
   ]
  },
  {
   "cell_type": "code",
   "execution_count": 183,
   "metadata": {},
   "outputs": [],
   "source": [
    "\"\"\"\n",
    "mycursor.execute(\"SELECT * FROM customers LIMIT 5\")\n",
    "myresult = mycursor.fetchall()\n",
    "for x in myresult:\n",
    "  print(x)\n",
    "\"\"\""
   ]
  },
  {
   "cell_type": "code",
   "execution_count": 12,
   "metadata": {},
   "outputs": [],
   "source": [
    "def create_DB(name):\n",
    "    \"Creates a database with database name as {name}\"\n",
    "    mydb = mysql.connector.connect(\n",
    "    host=\"localhost\",\n",
    "    user=user,\n",
    "    password=ppw,\n",
    "    )\n",
    "    mycursor = mydb.cursor()\n",
    "    mycursor.execute(f\"CREATE DATABASE {name}\")"
   ]
  },
  {
   "cell_type": "code",
   "execution_count": 11,
   "metadata": {},
   "outputs": [],
   "source": [
    "def change_password():\n",
    "    \"Changes current password of user 'root' to 'password'\"\n",
    "    mydb = mysql.connector.connect(\n",
    "    host=\"localhost\",\n",
    "    user=user,\n",
    "    password=ppw\n",
    "    )\n",
    "    mycursor = mydb.cursor()\n",
    "    mycursor.execute(f\"ALTER USER 'root'@localhost IDENTIFIED BY 'password'\")"
   ]
  },
  {
   "cell_type": "code",
   "execution_count": 10,
   "metadata": {},
   "outputs": [],
   "source": [
    "def print_all_DBs():\n",
    "    \"Changes current password of user 'root' to 'password'\"\n",
    "    mydb = mysql.connector.connect(\n",
    "    host=\"localhost\",\n",
    "    user=user,\n",
    "    password=ppw\n",
    "    )\n",
    "    mycursor = mydb.cursor()\n",
    "    \"prints out all databases available for the selected user\"\n",
    "    mycursor.execute(\"SHOW DATABASES\")\n",
    "    for x in mycursor:\n",
    "      print(x)"
   ]
  },
  {
   "cell_type": "code",
   "execution_count": 504,
   "metadata": {},
   "outputs": [
    {
     "name": "stdout",
     "output_type": "stream",
     "text": [
      "('companydatabase',)\n",
      "('faname',)\n",
      "('information_schema',)\n",
      "('mydatabase',)\n",
      "('mydatabase001',)\n",
      "('mydatabase002',)\n",
      "('mysql',)\n",
      "('performance_schema',)\n",
      "('sakila',)\n",
      "('sys',)\n",
      "('world',)\n"
     ]
    }
   ],
   "source": [
    "print_all_DBs()"
   ]
  },
  {
   "cell_type": "code",
   "execution_count": 9,
   "metadata": {},
   "outputs": [],
   "source": [
    "def show_tables(db_name):\n",
    "    \"Shows all tables in a DB\"\n",
    "    mydb = mysql.connector.connect(\n",
    "    host=\"localhost\",\n",
    "    user=user,\n",
    "    password=ppw,\n",
    "    database=f\"{db_name}\"\n",
    "    )\n",
    "    mycursor = mydb.cursor()\n",
    "    mycursor.execute(\"SHOW TABLES\")\n",
    "    for x in mycursor:\n",
    "      print(x)"
   ]
  },
  {
   "cell_type": "code",
   "execution_count": 502,
   "metadata": {},
   "outputs": [
    {
     "name": "stdout",
     "output_type": "stream",
     "text": [
      "('customers',)\n",
      "('products',)\n",
      "('users',)\n"
     ]
    }
   ],
   "source": [
    "show_tables('mydatabase')"
   ]
  },
  {
   "cell_type": "code",
   "execution_count": 8,
   "metadata": {},
   "outputs": [],
   "source": [
    "def describe_table(db ,table_name):\n",
    "    \"Describe table in a DB\"\n",
    "    mydb = mysql.connector.connect(\n",
    "    host=\"localhost\",\n",
    "    user=user,\n",
    "    password=ppw,\n",
    "    database=db\n",
    "    )\n",
    "    mycursor = mydb.cursor()\n",
    "    mycursor.execute(f\"DESCRIBE {table_name}\")\n",
    "    for x in mycursor:\n",
    "      print(x[0])"
   ]
  },
  {
   "cell_type": "code",
   "execution_count": 525,
   "metadata": {},
   "outputs": [
    {
     "name": "stdout",
     "output_type": "stream",
     "text": [
      "id\n",
      "name\n",
      "address\n"
     ]
    }
   ],
   "source": [
    "describe_table(\"mydatabase\", 'customers')"
   ]
  },
  {
   "cell_type": "code",
   "execution_count": 15,
   "metadata": {},
   "outputs": [],
   "source": [
    "def sqlTable_to_pd(db_name , table_name):\n",
    "    \"Get Keys\"\n",
    "    import numpy as np\n",
    "    import pandas as pd\n",
    "    \n",
    "    mydb = mysql.connector.connect(\n",
    "    host=\"localhost\",\n",
    "    user=user,\n",
    "    password=ppw,\n",
    "    database= db_name\n",
    "    )\n",
    "    mycursor = mydb.cursor()\n",
    "    mycursor.execute(f\"DESCRIBE {table_name}\")\n",
    "    keys = np.array([( str(key[0]) + ' '+ str(key[1]) ).replace(\"'\", '') for key in mycursor])\n",
    "    \n",
    "    \"Get rows\"\n",
    "    mycursor.execute(f\"SELECT * FROM {table_name}\")\n",
    "    myresult = mycursor.fetchall()\n",
    "    rows = np.array([list(row) for row in myresult])\n",
    "    \n",
    "    df = pd.DataFrame(rows , columns=keys)\n",
    "    return df"
   ]
  },
  {
   "cell_type": "code",
   "execution_count": 522,
   "metadata": {},
   "outputs": [
    {
     "data": {
      "text/html": [
       "<div>\n",
       "<style scoped>\n",
       "    .dataframe tbody tr th:only-of-type {\n",
       "        vertical-align: middle;\n",
       "    }\n",
       "\n",
       "    .dataframe tbody tr th {\n",
       "        vertical-align: top;\n",
       "    }\n",
       "\n",
       "    .dataframe thead th {\n",
       "        text-align: right;\n",
       "    }\n",
       "</style>\n",
       "<table border=\"1\" class=\"dataframe\">\n",
       "  <thead>\n",
       "    <tr style=\"text-align: right;\">\n",
       "      <th></th>\n",
       "      <th>id int</th>\n",
       "      <th>name varchar(255)</th>\n",
       "      <th>address varchar(255)</th>\n",
       "    </tr>\n",
       "  </thead>\n",
       "  <tbody>\n",
       "    <tr>\n",
       "      <th>0</th>\n",
       "      <td>1</td>\n",
       "      <td>John</td>\n",
       "      <td>Highway 21</td>\n",
       "    </tr>\n",
       "    <tr>\n",
       "      <th>1</th>\n",
       "      <td>2</td>\n",
       "      <td>Peter</td>\n",
       "      <td>Lowstreet 4</td>\n",
       "    </tr>\n",
       "    <tr>\n",
       "      <th>2</th>\n",
       "      <td>3</td>\n",
       "      <td>Amy</td>\n",
       "      <td>Apple st 652</td>\n",
       "    </tr>\n",
       "    <tr>\n",
       "      <th>3</th>\n",
       "      <td>5</td>\n",
       "      <td>Michael</td>\n",
       "      <td>Canyon 123</td>\n",
       "    </tr>\n",
       "    <tr>\n",
       "      <th>4</th>\n",
       "      <td>6</td>\n",
       "      <td>Sandy</td>\n",
       "      <td>Ocean blvd 2</td>\n",
       "    </tr>\n",
       "    <tr>\n",
       "      <th>5</th>\n",
       "      <td>7</td>\n",
       "      <td>Betty</td>\n",
       "      <td>Green Grass 1</td>\n",
       "    </tr>\n",
       "    <tr>\n",
       "      <th>6</th>\n",
       "      <td>8</td>\n",
       "      <td>Richard</td>\n",
       "      <td>Sky st 331</td>\n",
       "    </tr>\n",
       "    <tr>\n",
       "      <th>7</th>\n",
       "      <td>9</td>\n",
       "      <td>Susan</td>\n",
       "      <td>One way 98</td>\n",
       "    </tr>\n",
       "    <tr>\n",
       "      <th>8</th>\n",
       "      <td>11</td>\n",
       "      <td>Ben</td>\n",
       "      <td>Park Lane 38</td>\n",
       "    </tr>\n",
       "    <tr>\n",
       "      <th>9</th>\n",
       "      <td>12</td>\n",
       "      <td>William</td>\n",
       "      <td>Central st 954</td>\n",
       "    </tr>\n",
       "    <tr>\n",
       "      <th>10</th>\n",
       "      <td>13</td>\n",
       "      <td>Chuck</td>\n",
       "      <td>Main Road 989</td>\n",
       "    </tr>\n",
       "    <tr>\n",
       "      <th>11</th>\n",
       "      <td>14</td>\n",
       "      <td>Viola</td>\n",
       "      <td>Sideway 1633</td>\n",
       "    </tr>\n",
       "    <tr>\n",
       "      <th>12</th>\n",
       "      <td>15</td>\n",
       "      <td>Michelle</td>\n",
       "      <td>Blue Village</td>\n",
       "    </tr>\n",
       "  </tbody>\n",
       "</table>\n",
       "</div>"
      ],
      "text/plain": [
       "   id int name varchar(255) address varchar(255)\n",
       "0       1              John           Highway 21\n",
       "1       2             Peter          Lowstreet 4\n",
       "2       3               Amy         Apple st 652\n",
       "3       5           Michael           Canyon 123\n",
       "4       6             Sandy         Ocean blvd 2\n",
       "5       7             Betty        Green Grass 1\n",
       "6       8           Richard           Sky st 331\n",
       "7       9             Susan           One way 98\n",
       "8      11               Ben         Park Lane 38\n",
       "9      12           William       Central st 954\n",
       "10     13             Chuck        Main Road 989\n",
       "11     14             Viola         Sideway 1633\n",
       "12     15          Michelle         Blue Village"
      ]
     },
     "execution_count": 522,
     "metadata": {},
     "output_type": "execute_result"
    }
   ],
   "source": [
    "sqlTable_to_pd('mydatabase','customers')"
   ]
  },
  {
   "cell_type": "markdown",
   "metadata": {},
   "source": [
    "<div style=\"border:1px solid green;\"></div>\n",
    "<div style=\"background:orange;\">\n",
    "<h1>Basic data types in sql</h1>\n",
    "<ul>\n",
    "    <li>INT</li>\n",
    "    <li>DECIMAL(lBeforeDec,roundTo)</li>\n",
    "    <li>VARCHAR(l)</li>\n",
    "    <li>BLOB  (Binary Large Object : Stores large objects i.e. images)</li>\n",
    "    <li>DATE (YYYY-MM-DD)</li>\n",
    "    <li>TIMESTAMP (DATE HH:MM:SS)</li>\n",
    "</ul>\n",
    "</div>\n",
    "<div style=\"border:1px solid green;\"></div>"
   ]
  },
  {
   "cell_type": "code",
   "execution_count": null,
   "metadata": {},
   "outputs": [],
   "source": [
    "# constraints : NOT NULL , UNIQUE, DEFAULT 'default_value', AUTO_INCREMENT"
   ]
  },
  {
   "cell_type": "code",
   "execution_count": null,
   "metadata": {},
   "outputs": [],
   "source": [
    "create_DB(\"companydatabase\")"
   ]
  },
  {
   "cell_type": "code",
   "execution_count": 13,
   "metadata": {},
   "outputs": [
    {
     "name": "stdout",
     "output_type": "stream",
     "text": [
      "('companydatabase',)\n",
      "('faname',)\n",
      "('information_schema',)\n",
      "('mydatabase',)\n",
      "('mydatabase001',)\n",
      "('mydatabase002',)\n",
      "('mysql',)\n",
      "('performance_schema',)\n",
      "('sakila',)\n",
      "('sys',)\n",
      "('world',)\n"
     ]
    }
   ],
   "source": [
    "print_all_DBs()"
   ]
  },
  {
   "cell_type": "code",
   "execution_count": 14,
   "metadata": {},
   "outputs": [],
   "source": [
    "mydb = mysql.connector.connect(\n",
    "  host=\"localhost\",\n",
    "  user=user,\n",
    "  password=ppw,\n",
    "  database=\"companydatabase\"\n",
    ")\n",
    "mycursor = mydb.cursor()"
   ]
  },
  {
   "cell_type": "code",
   "execution_count": 516,
   "metadata": {},
   "outputs": [],
   "source": [
    "# mycursor.execute(\"DROP TABLE employee\")"
   ]
  },
  {
   "cell_type": "markdown",
   "metadata": {},
   "source": [
    "<p style=\"border: 1px solid green; padding: 20px; background: orange; text-align: center \">Create tables</p>"
   ]
  },
  {
   "cell_type": "markdown",
   "metadata": {},
   "source": [
    "<p style=\"text-align:center\">Creating 'employee' table</p>\n",
    "<div style=\"border:1px solid green\"></div>"
   ]
  },
  {
   "cell_type": "code",
   "execution_count": 517,
   "metadata": {},
   "outputs": [],
   "source": [
    "mycursor.execute(\"CREATE TABLE employee(\\\n",
    "                emp_id INT PRIMARY KEY,\\\n",
    "                first_name VARCHAR(40),\\\n",
    "                last_name VARCHAR(40),\\\n",
    "                birth_day DATE,\\\n",
    "                sex VARCHAR(1),\\\n",
    "                salary INT,\\\n",
    "                super_id INT,\\\n",
    "                branch_id INT\\\n",
    "                )\")"
   ]
  },
  {
   "cell_type": "code",
   "execution_count": 22,
   "metadata": {},
   "outputs": [
    {
     "name": "stdout",
     "output_type": "stream",
     "text": [
      "emp_id\n",
      "first_name\n",
      "last_name\n",
      "birth_day\n",
      "sex\n",
      "salary\n",
      "super_id\n",
      "branch_id\n"
     ]
    }
   ],
   "source": [
    "describe_table('companydatabase' , 'employee')"
   ]
  },
  {
   "cell_type": "markdown",
   "metadata": {},
   "source": [
    "<p style=\"text-align:center\">Creating 'branch' table</p>\n",
    "<div style=\"border:1px solid green\"></div>"
   ]
  },
  {
   "cell_type": "code",
   "execution_count": null,
   "metadata": {},
   "outputs": [],
   "source": [
    "mycursor.execute(\"CREATE TABLE branch(\\\n",
    "                branch_id INT PRIMARY KEY,\\\n",
    "                branch_name VARCHAR(40),\\\n",
    "                mgr_id INT,\\\n",
    "                mgr_start_date DATE,\\\n",
    "                FOREIGN KEY(mgr_id) REFERENCES employee(emp_id) ON DELETE SET NULL\\\n",
    "                )\")"
   ]
  },
  {
   "cell_type": "code",
   "execution_count": 15,
   "metadata": {},
   "outputs": [
    {
     "name": "stdout",
     "output_type": "stream",
     "text": [
      "branch_id\n",
      "branch_name\n",
      "mgr_id\n",
      "mgr_start_date\n"
     ]
    }
   ],
   "source": [
    "describe_table('companydatabase' , 'branch')"
   ]
  },
  {
   "cell_type": "markdown",
   "metadata": {},
   "source": [
    "<p style=\"text-align:center\">Relate tables with foreign keys table</p>\n",
    "<div style=\"border:1px solid green\"></div>"
   ]
  },
  {
   "cell_type": "code",
   "execution_count": 17,
   "metadata": {},
   "outputs": [],
   "source": [
    "mycursor.execute(\"ALTER TABLE employee\\\n",
    "                ADD FOREIGN KEY(branch_id)\\\n",
    "                REFERENCES branch(branch_id)\\\n",
    "                ON DELETE SET NULL\\\n",
    "                \")"
   ]
  },
  {
   "cell_type": "code",
   "execution_count": 24,
   "metadata": {},
   "outputs": [],
   "source": [
    "mycursor.execute(\"ALTER TABLE employee\\\n",
    "                ADD FOREIGN KEY(super_id)\\\n",
    "                REFERENCES employee(emp_id)\\\n",
    "                ON DELETE SET NULL\\\n",
    "                \")"
   ]
  },
  {
   "cell_type": "markdown",
   "metadata": {},
   "source": [
    "<p style=\"text-align:center\">Creating 'client' table</p>\n",
    "<div style=\"border:1px solid green\"></div>"
   ]
  },
  {
   "cell_type": "code",
   "execution_count": 30,
   "metadata": {},
   "outputs": [],
   "source": [
    "mycursor.execute(\"CREATE TABLE client(\\\n",
    "                client_id INT PRIMARY KEY,\\\n",
    "                client_name VARCHAR(40),\\\n",
    "                branch_id INT,\\\n",
    "                FOREIGN KEY(branch_id) REFERENCES branch(branch_id) ON DELETE SET NULL\\\n",
    "                )\")"
   ]
  },
  {
   "cell_type": "code",
   "execution_count": 72,
   "metadata": {},
   "outputs": [
    {
     "name": "stdout",
     "output_type": "stream",
     "text": [
      "client_id\n",
      "client_name\n",
      "branch_id\n"
     ]
    }
   ],
   "source": [
    "describe_table('companydatabase' , 'client')"
   ]
  },
  {
   "cell_type": "markdown",
   "metadata": {},
   "source": [
    "<p style=\"text-align:center\">Creating 'works_with' table</p>\n",
    "<div style=\"border:1px solid green\"></div>"
   ]
  },
  {
   "cell_type": "code",
   "execution_count": 39,
   "metadata": {},
   "outputs": [],
   "source": [
    "mycursor.execute(\"CREATE TABLE works_with(\\\n",
    "                emp_id INT,\\\n",
    "                client_id INT,\\\n",
    "                total_sales INT,\\\n",
    "                PRIMARY KEY(emp_id , client_id),\\\n",
    "                FOREIGN KEY(emp_id) REFERENCES employee(emp_id) ON DELETE CASCADE,\\\n",
    "                FOREIGN KEY(client_id) REFERENCES client(client_id) ON DELETE CASCADE\\\n",
    "                )\")"
   ]
  },
  {
   "cell_type": "code",
   "execution_count": 41,
   "metadata": {},
   "outputs": [
    {
     "name": "stdout",
     "output_type": "stream",
     "text": [
      "emp_id\n",
      "client_id\n",
      "total_sales\n"
     ]
    }
   ],
   "source": [
    "describe_table('companydatabase' , 'works_with')"
   ]
  },
  {
   "cell_type": "markdown",
   "metadata": {},
   "source": [
    "<p style=\"text-align:center\">Creating 'branch_supplier' table</p>\n",
    "<div style=\"border:1px solid green\"></div>"
   ]
  },
  {
   "cell_type": "code",
   "execution_count": 42,
   "metadata": {},
   "outputs": [],
   "source": [
    "mycursor.execute(\"CREATE TABLE branch_supplier(\\\n",
    "                branch_id INT,\\\n",
    "                supplier_name VARCHAR(40),\\\n",
    "                supply_type VARCHAR(40),\\\n",
    "                PRIMARY KEY(branch_id , supplier_name),\\\n",
    "                FOREIGN KEY(branch_id) REFERENCES branch(branch_id) ON DELETE CASCADE\\\n",
    "                )\")"
   ]
  },
  {
   "cell_type": "code",
   "execution_count": 43,
   "metadata": {},
   "outputs": [
    {
     "name": "stdout",
     "output_type": "stream",
     "text": [
      "branch_id\n",
      "supplier_name\n",
      "supply_type\n"
     ]
    }
   ],
   "source": [
    "describe_table('companydatabase' , 'branch_supplier')"
   ]
  },
  {
   "cell_type": "markdown",
   "metadata": {},
   "source": [
    "<p style=\"border: 1px solid green; padding: 20px; background: orange; text-align: center \">Insert into tables</p>"
   ]
  },
  {
   "cell_type": "markdown",
   "metadata": {},
   "source": [
    "<p style=\"text-align:center\">Insert values into 'employee' table</p>\n",
    "<div style=\"border:1px solid green\"></div>"
   ]
  },
  {
   "cell_type": "code",
   "execution_count": 53,
   "metadata": {},
   "outputs": [
    {
     "name": "stdout",
     "output_type": "stream",
     "text": [
      "emp_id\n",
      "first_name\n",
      "last_name\n",
      "birth_day\n",
      "sex\n",
      "salary\n",
      "super_id\n",
      "branch_id\n"
     ]
    }
   ],
   "source": [
    "describe_table('companydatabase' , 'employee')"
   ]
  },
  {
   "cell_type": "code",
   "execution_count": null,
   "metadata": {},
   "outputs": [],
   "source": [
    "sql = \"INSERT INTO employee (emp_id , first_name , last_name ,\\\n",
    "        birth_day , sex , salary , super_id , branch_id) \\\n",
    "        VALUES (%s , %s , %s , %s , %s , %s , %s , %s)\"\n",
    "\n",
    "val = [\n",
    "  (100, 'David', 'Wallace', '1967-11-17', 'M' , 250000 , None , None),\n",
    "  (101, 'Jan',   'Levinson','1961-05-11', 'F' , 110000 , 100  , None),\n",
    "  (102, 'Michael','Scott',  '1964-03-15', 'M' , 75000  , 100  , None),\n",
    "  (103, 'Angela', 'Martin', '1971-06-25', 'F' , 63000  , 102  , None),\n",
    "  (104, 'Kelly',  'Kapoor', '1980-02-05', 'F' , 55000  , 102  , None), \n",
    "  (105, 'Stanley','Hudson', '1958-02-19', 'M' , 69000  , 102  , None),\n",
    "  (106, 'Josh',   'Porter', '1969-09-05', 'M' , 78000  , 100  , None),\n",
    "  (107, 'Andy',   'Bernard','1973-07-22', 'M' , 65000  , 106  , None),\n",
    "  (108, 'Jim',    'Helpert','1978-10-01', 'M' , 71000  , 106  , None)\n",
    "]\n",
    "mycursor.executemany(sql, val)\n",
    "mydb.commit()\n",
    "print(mycursor.rowcount, \"was inserted.\")"
   ]
  },
  {
   "cell_type": "code",
   "execution_count": 63,
   "metadata": {},
   "outputs": [
    {
     "data": {
      "text/html": [
       "<div>\n",
       "<style scoped>\n",
       "    .dataframe tbody tr th:only-of-type {\n",
       "        vertical-align: middle;\n",
       "    }\n",
       "\n",
       "    .dataframe tbody tr th {\n",
       "        vertical-align: top;\n",
       "    }\n",
       "\n",
       "    .dataframe thead th {\n",
       "        text-align: right;\n",
       "    }\n",
       "</style>\n",
       "<table border=\"1\" class=\"dataframe\">\n",
       "  <thead>\n",
       "    <tr style=\"text-align: right;\">\n",
       "      <th></th>\n",
       "      <th>emp_id bint</th>\n",
       "      <th>first_name bvarchar(40)</th>\n",
       "      <th>last_name bvarchar(40)</th>\n",
       "      <th>birth_day bdate</th>\n",
       "      <th>sex bvarchar(1)</th>\n",
       "      <th>salary bint</th>\n",
       "      <th>super_id bint</th>\n",
       "      <th>branch_id bint</th>\n",
       "    </tr>\n",
       "  </thead>\n",
       "  <tbody>\n",
       "    <tr>\n",
       "      <th>0</th>\n",
       "      <td>100</td>\n",
       "      <td>David</td>\n",
       "      <td>Wallace</td>\n",
       "      <td>1967-11-17</td>\n",
       "      <td>M</td>\n",
       "      <td>250000</td>\n",
       "      <td>None</td>\n",
       "      <td>None</td>\n",
       "    </tr>\n",
       "    <tr>\n",
       "      <th>1</th>\n",
       "      <td>101</td>\n",
       "      <td>Jan</td>\n",
       "      <td>Levinson</td>\n",
       "      <td>1961-05-11</td>\n",
       "      <td>F</td>\n",
       "      <td>110000</td>\n",
       "      <td>100</td>\n",
       "      <td>None</td>\n",
       "    </tr>\n",
       "    <tr>\n",
       "      <th>2</th>\n",
       "      <td>102</td>\n",
       "      <td>Michael</td>\n",
       "      <td>Scott</td>\n",
       "      <td>1964-03-15</td>\n",
       "      <td>M</td>\n",
       "      <td>75000</td>\n",
       "      <td>100</td>\n",
       "      <td>None</td>\n",
       "    </tr>\n",
       "    <tr>\n",
       "      <th>3</th>\n",
       "      <td>103</td>\n",
       "      <td>Angela</td>\n",
       "      <td>Martin</td>\n",
       "      <td>1971-06-25</td>\n",
       "      <td>F</td>\n",
       "      <td>63000</td>\n",
       "      <td>102</td>\n",
       "      <td>None</td>\n",
       "    </tr>\n",
       "    <tr>\n",
       "      <th>4</th>\n",
       "      <td>104</td>\n",
       "      <td>Kelly</td>\n",
       "      <td>Kapoor</td>\n",
       "      <td>1980-02-05</td>\n",
       "      <td>F</td>\n",
       "      <td>55000</td>\n",
       "      <td>102</td>\n",
       "      <td>None</td>\n",
       "    </tr>\n",
       "    <tr>\n",
       "      <th>5</th>\n",
       "      <td>105</td>\n",
       "      <td>Stanley</td>\n",
       "      <td>Hudson</td>\n",
       "      <td>1958-02-19</td>\n",
       "      <td>M</td>\n",
       "      <td>69000</td>\n",
       "      <td>102</td>\n",
       "      <td>None</td>\n",
       "    </tr>\n",
       "    <tr>\n",
       "      <th>6</th>\n",
       "      <td>106</td>\n",
       "      <td>Josh</td>\n",
       "      <td>Porter</td>\n",
       "      <td>1969-09-05</td>\n",
       "      <td>M</td>\n",
       "      <td>78000</td>\n",
       "      <td>100</td>\n",
       "      <td>None</td>\n",
       "    </tr>\n",
       "    <tr>\n",
       "      <th>7</th>\n",
       "      <td>107</td>\n",
       "      <td>Andy</td>\n",
       "      <td>Bernard</td>\n",
       "      <td>1973-07-22</td>\n",
       "      <td>M</td>\n",
       "      <td>65000</td>\n",
       "      <td>106</td>\n",
       "      <td>None</td>\n",
       "    </tr>\n",
       "    <tr>\n",
       "      <th>8</th>\n",
       "      <td>108</td>\n",
       "      <td>Jim</td>\n",
       "      <td>Helpert</td>\n",
       "      <td>1978-10-01</td>\n",
       "      <td>M</td>\n",
       "      <td>71000</td>\n",
       "      <td>106</td>\n",
       "      <td>None</td>\n",
       "    </tr>\n",
       "  </tbody>\n",
       "</table>\n",
       "</div>"
      ],
      "text/plain": [
       "  emp_id bint first_name bvarchar(40) last_name bvarchar(40) birth_day bdate  \\\n",
       "0         100                   David                Wallace      1967-11-17   \n",
       "1         101                     Jan               Levinson      1961-05-11   \n",
       "2         102                 Michael                  Scott      1964-03-15   \n",
       "3         103                  Angela                 Martin      1971-06-25   \n",
       "4         104                   Kelly                 Kapoor      1980-02-05   \n",
       "5         105                 Stanley                 Hudson      1958-02-19   \n",
       "6         106                    Josh                 Porter      1969-09-05   \n",
       "7         107                    Andy                Bernard      1973-07-22   \n",
       "8         108                     Jim                Helpert      1978-10-01   \n",
       "\n",
       "  sex bvarchar(1) salary bint super_id bint branch_id bint  \n",
       "0               M      250000          None           None  \n",
       "1               F      110000           100           None  \n",
       "2               M       75000           100           None  \n",
       "3               F       63000           102           None  \n",
       "4               F       55000           102           None  \n",
       "5               M       69000           102           None  \n",
       "6               M       78000           100           None  \n",
       "7               M       65000           106           None  \n",
       "8               M       71000           106           None  "
      ]
     },
     "execution_count": 63,
     "metadata": {},
     "output_type": "execute_result"
    }
   ],
   "source": [
    "sqlTable_to_pd('companydatabase','employee')"
   ]
  },
  {
   "cell_type": "markdown",
   "metadata": {},
   "source": [
    "<p style=\"text-align:center\">Insert values into 'branch' table</p>\n",
    "<div style=\"border:1px solid green\"></div>"
   ]
  },
  {
   "cell_type": "code",
   "execution_count": 54,
   "metadata": {},
   "outputs": [
    {
     "name": "stdout",
     "output_type": "stream",
     "text": [
      "branch_id\n",
      "branch_name\n",
      "mgr_id\n",
      "mgr_start_date\n"
     ]
    }
   ],
   "source": [
    "describe_table('companydatabase' , 'branch')"
   ]
  },
  {
   "cell_type": "code",
   "execution_count": 61,
   "metadata": {},
   "outputs": [
    {
     "name": "stdout",
     "output_type": "stream",
     "text": [
      "3 was inserted.\n"
     ]
    }
   ],
   "source": [
    "sql = \"INSERT INTO branch (branch_id , branch_name ,\\\n",
    "        mgr_id , mgr_start_date) \\\n",
    "        VALUES (%s , %s , %s , %s)\"\n",
    "\n",
    "val = [\n",
    "  (1,  'Corporate', 100 , '2006-02-09'),\n",
    "  (2,  'Scranton' , 102 , '1992-04-06'),\n",
    "  (3,  'Stamford' , 106 , '1998-02-13')\n",
    "]\n",
    "mycursor.executemany(sql, val)\n",
    "mydb.commit()\n",
    "print(mycursor.rowcount, \"was inserted.\")"
   ]
  },
  {
   "cell_type": "code",
   "execution_count": 64,
   "metadata": {},
   "outputs": [
    {
     "data": {
      "text/html": [
       "<div>\n",
       "<style scoped>\n",
       "    .dataframe tbody tr th:only-of-type {\n",
       "        vertical-align: middle;\n",
       "    }\n",
       "\n",
       "    .dataframe tbody tr th {\n",
       "        vertical-align: top;\n",
       "    }\n",
       "\n",
       "    .dataframe thead th {\n",
       "        text-align: right;\n",
       "    }\n",
       "</style>\n",
       "<table border=\"1\" class=\"dataframe\">\n",
       "  <thead>\n",
       "    <tr style=\"text-align: right;\">\n",
       "      <th></th>\n",
       "      <th>branch_id bint</th>\n",
       "      <th>branch_name bvarchar(40)</th>\n",
       "      <th>mgr_id bint</th>\n",
       "      <th>mgr_start_date bdate</th>\n",
       "    </tr>\n",
       "  </thead>\n",
       "  <tbody>\n",
       "    <tr>\n",
       "      <th>0</th>\n",
       "      <td>1</td>\n",
       "      <td>Corporate</td>\n",
       "      <td>100</td>\n",
       "      <td>2006-02-09</td>\n",
       "    </tr>\n",
       "    <tr>\n",
       "      <th>1</th>\n",
       "      <td>2</td>\n",
       "      <td>Scranton</td>\n",
       "      <td>102</td>\n",
       "      <td>1992-04-06</td>\n",
       "    </tr>\n",
       "    <tr>\n",
       "      <th>2</th>\n",
       "      <td>3</td>\n",
       "      <td>Stamford</td>\n",
       "      <td>106</td>\n",
       "      <td>1998-02-13</td>\n",
       "    </tr>\n",
       "  </tbody>\n",
       "</table>\n",
       "</div>"
      ],
      "text/plain": [
       "  branch_id bint branch_name bvarchar(40) mgr_id bint mgr_start_date bdate\n",
       "0              1                Corporate         100           2006-02-09\n",
       "1              2                 Scranton         102           1992-04-06\n",
       "2              3                 Stamford         106           1998-02-13"
      ]
     },
     "execution_count": 64,
     "metadata": {},
     "output_type": "execute_result"
    }
   ],
   "source": [
    "sqlTable_to_pd('companydatabase','branch')"
   ]
  },
  {
   "cell_type": "markdown",
   "metadata": {},
   "source": [
    "<p style=\"text-align:center\">Update 'employee' table</p>\n",
    "<div style=\"border:1px solid green\"></div>"
   ]
  },
  {
   "cell_type": "code",
   "execution_count": 70,
   "metadata": {},
   "outputs": [
    {
     "name": "stdout",
     "output_type": "stream",
     "text": [
      "0 was updated.\n"
     ]
    }
   ],
   "source": [
    "sql = \"UPDATE employee \\\n",
    "        SET branch_id = %s \\\n",
    "        WHERE emp_id = %s\"\n",
    "\n",
    "val = [\n",
    "    (1 , 100),\n",
    "    (1 , 101),\n",
    "    (2 , 102),\n",
    "    (2 , 103),\n",
    "    (2 , 104),\n",
    "    (2 , 105),\n",
    "    (3 , 106),\n",
    "    (3 , 107),\n",
    "    (3 , 108)\n",
    "]\n",
    "mycursor.executemany(sql, val)\n",
    "mydb.commit()\n",
    "print(mycursor.rowcount, \"was updated.\")"
   ]
  },
  {
   "cell_type": "code",
   "execution_count": 69,
   "metadata": {},
   "outputs": [
    {
     "data": {
      "text/html": [
       "<div>\n",
       "<style scoped>\n",
       "    .dataframe tbody tr th:only-of-type {\n",
       "        vertical-align: middle;\n",
       "    }\n",
       "\n",
       "    .dataframe tbody tr th {\n",
       "        vertical-align: top;\n",
       "    }\n",
       "\n",
       "    .dataframe thead th {\n",
       "        text-align: right;\n",
       "    }\n",
       "</style>\n",
       "<table border=\"1\" class=\"dataframe\">\n",
       "  <thead>\n",
       "    <tr style=\"text-align: right;\">\n",
       "      <th></th>\n",
       "      <th>emp_id bint</th>\n",
       "      <th>first_name bvarchar(40)</th>\n",
       "      <th>last_name bvarchar(40)</th>\n",
       "      <th>birth_day bdate</th>\n",
       "      <th>sex bvarchar(1)</th>\n",
       "      <th>salary bint</th>\n",
       "      <th>super_id bint</th>\n",
       "      <th>branch_id bint</th>\n",
       "    </tr>\n",
       "  </thead>\n",
       "  <tbody>\n",
       "    <tr>\n",
       "      <th>0</th>\n",
       "      <td>100</td>\n",
       "      <td>David</td>\n",
       "      <td>Wallace</td>\n",
       "      <td>1967-11-17</td>\n",
       "      <td>M</td>\n",
       "      <td>250000</td>\n",
       "      <td>None</td>\n",
       "      <td>1</td>\n",
       "    </tr>\n",
       "    <tr>\n",
       "      <th>1</th>\n",
       "      <td>101</td>\n",
       "      <td>Jan</td>\n",
       "      <td>Levinson</td>\n",
       "      <td>1961-05-11</td>\n",
       "      <td>F</td>\n",
       "      <td>110000</td>\n",
       "      <td>100</td>\n",
       "      <td>1</td>\n",
       "    </tr>\n",
       "    <tr>\n",
       "      <th>2</th>\n",
       "      <td>102</td>\n",
       "      <td>Michael</td>\n",
       "      <td>Scott</td>\n",
       "      <td>1964-03-15</td>\n",
       "      <td>M</td>\n",
       "      <td>75000</td>\n",
       "      <td>100</td>\n",
       "      <td>2</td>\n",
       "    </tr>\n",
       "    <tr>\n",
       "      <th>3</th>\n",
       "      <td>103</td>\n",
       "      <td>Angela</td>\n",
       "      <td>Martin</td>\n",
       "      <td>1971-06-25</td>\n",
       "      <td>F</td>\n",
       "      <td>63000</td>\n",
       "      <td>102</td>\n",
       "      <td>2</td>\n",
       "    </tr>\n",
       "    <tr>\n",
       "      <th>4</th>\n",
       "      <td>104</td>\n",
       "      <td>Kelly</td>\n",
       "      <td>Kapoor</td>\n",
       "      <td>1980-02-05</td>\n",
       "      <td>F</td>\n",
       "      <td>55000</td>\n",
       "      <td>102</td>\n",
       "      <td>2</td>\n",
       "    </tr>\n",
       "    <tr>\n",
       "      <th>5</th>\n",
       "      <td>105</td>\n",
       "      <td>Stanley</td>\n",
       "      <td>Hudson</td>\n",
       "      <td>1958-02-19</td>\n",
       "      <td>M</td>\n",
       "      <td>69000</td>\n",
       "      <td>102</td>\n",
       "      <td>2</td>\n",
       "    </tr>\n",
       "    <tr>\n",
       "      <th>6</th>\n",
       "      <td>106</td>\n",
       "      <td>Josh</td>\n",
       "      <td>Porter</td>\n",
       "      <td>1969-09-05</td>\n",
       "      <td>M</td>\n",
       "      <td>78000</td>\n",
       "      <td>100</td>\n",
       "      <td>3</td>\n",
       "    </tr>\n",
       "    <tr>\n",
       "      <th>7</th>\n",
       "      <td>107</td>\n",
       "      <td>Andy</td>\n",
       "      <td>Bernard</td>\n",
       "      <td>1973-07-22</td>\n",
       "      <td>M</td>\n",
       "      <td>65000</td>\n",
       "      <td>106</td>\n",
       "      <td>3</td>\n",
       "    </tr>\n",
       "    <tr>\n",
       "      <th>8</th>\n",
       "      <td>108</td>\n",
       "      <td>Jim</td>\n",
       "      <td>Helpert</td>\n",
       "      <td>1978-10-01</td>\n",
       "      <td>M</td>\n",
       "      <td>71000</td>\n",
       "      <td>106</td>\n",
       "      <td>3</td>\n",
       "    </tr>\n",
       "  </tbody>\n",
       "</table>\n",
       "</div>"
      ],
      "text/plain": [
       "  emp_id bint first_name bvarchar(40) last_name bvarchar(40) birth_day bdate  \\\n",
       "0         100                   David                Wallace      1967-11-17   \n",
       "1         101                     Jan               Levinson      1961-05-11   \n",
       "2         102                 Michael                  Scott      1964-03-15   \n",
       "3         103                  Angela                 Martin      1971-06-25   \n",
       "4         104                   Kelly                 Kapoor      1980-02-05   \n",
       "5         105                 Stanley                 Hudson      1958-02-19   \n",
       "6         106                    Josh                 Porter      1969-09-05   \n",
       "7         107                    Andy                Bernard      1973-07-22   \n",
       "8         108                     Jim                Helpert      1978-10-01   \n",
       "\n",
       "  sex bvarchar(1) salary bint super_id bint branch_id bint  \n",
       "0               M      250000          None              1  \n",
       "1               F      110000           100              1  \n",
       "2               M       75000           100              2  \n",
       "3               F       63000           102              2  \n",
       "4               F       55000           102              2  \n",
       "5               M       69000           102              2  \n",
       "6               M       78000           100              3  \n",
       "7               M       65000           106              3  \n",
       "8               M       71000           106              3  "
      ]
     },
     "execution_count": 69,
     "metadata": {},
     "output_type": "execute_result"
    }
   ],
   "source": [
    "sqlTable_to_pd('companydatabase','employee')"
   ]
  },
  {
   "cell_type": "markdown",
   "metadata": {},
   "source": [
    "<p style=\"text-align:center\">Insert values into 'client' table</p>\n",
    "<div style=\"border:1px solid green\"></div>"
   ]
  },
  {
   "cell_type": "code",
   "execution_count": 73,
   "metadata": {},
   "outputs": [
    {
     "name": "stdout",
     "output_type": "stream",
     "text": [
      "client_id\n",
      "client_name\n",
      "branch_id\n"
     ]
    }
   ],
   "source": [
    "describe_table('companydatabase' , 'client')"
   ]
  },
  {
   "cell_type": "code",
   "execution_count": 75,
   "metadata": {},
   "outputs": [
    {
     "name": "stdout",
     "output_type": "stream",
     "text": [
      "7 was inserted.\n"
     ]
    }
   ],
   "source": [
    "sql = \"INSERT INTO client (client_id , client_name , \\\n",
    "        branch_id) \\\n",
    "        VALUES (%s , %s , %s)\"\n",
    "\n",
    "val = [\n",
    "  (400,  'Dunmore Highschool' , 2),\n",
    "  (401,  'Lackawana Country'  , 2),\n",
    "  (402,  'FedEx'              , 3),\n",
    "  (403,  'John Daly Law, LLC' , 3),\n",
    "  (404,  'Scranton Whitepages', 2),\n",
    "  (405,  'Times Newspaper'    , 3),\n",
    "  (406,  'FedEx'              , 2)\n",
    "]\n",
    "mycursor.executemany(sql, val)\n",
    "mydb.commit()\n",
    "print(mycursor.rowcount, \"was inserted.\")"
   ]
  },
  {
   "cell_type": "code",
   "execution_count": 76,
   "metadata": {},
   "outputs": [
    {
     "data": {
      "text/html": [
       "<div>\n",
       "<style scoped>\n",
       "    .dataframe tbody tr th:only-of-type {\n",
       "        vertical-align: middle;\n",
       "    }\n",
       "\n",
       "    .dataframe tbody tr th {\n",
       "        vertical-align: top;\n",
       "    }\n",
       "\n",
       "    .dataframe thead th {\n",
       "        text-align: right;\n",
       "    }\n",
       "</style>\n",
       "<table border=\"1\" class=\"dataframe\">\n",
       "  <thead>\n",
       "    <tr style=\"text-align: right;\">\n",
       "      <th></th>\n",
       "      <th>client_id bint</th>\n",
       "      <th>client_name bvarchar(40)</th>\n",
       "      <th>branch_id bint</th>\n",
       "    </tr>\n",
       "  </thead>\n",
       "  <tbody>\n",
       "    <tr>\n",
       "      <th>0</th>\n",
       "      <td>400</td>\n",
       "      <td>Dunmore Highschool</td>\n",
       "      <td>2</td>\n",
       "    </tr>\n",
       "    <tr>\n",
       "      <th>1</th>\n",
       "      <td>401</td>\n",
       "      <td>Lackawana Country</td>\n",
       "      <td>2</td>\n",
       "    </tr>\n",
       "    <tr>\n",
       "      <th>2</th>\n",
       "      <td>402</td>\n",
       "      <td>FedEx</td>\n",
       "      <td>3</td>\n",
       "    </tr>\n",
       "    <tr>\n",
       "      <th>3</th>\n",
       "      <td>403</td>\n",
       "      <td>John Daly Law, LLC</td>\n",
       "      <td>3</td>\n",
       "    </tr>\n",
       "    <tr>\n",
       "      <th>4</th>\n",
       "      <td>404</td>\n",
       "      <td>Scranton Whitepages</td>\n",
       "      <td>2</td>\n",
       "    </tr>\n",
       "    <tr>\n",
       "      <th>5</th>\n",
       "      <td>405</td>\n",
       "      <td>Times Newspaper</td>\n",
       "      <td>3</td>\n",
       "    </tr>\n",
       "    <tr>\n",
       "      <th>6</th>\n",
       "      <td>406</td>\n",
       "      <td>FedEx</td>\n",
       "      <td>2</td>\n",
       "    </tr>\n",
       "  </tbody>\n",
       "</table>\n",
       "</div>"
      ],
      "text/plain": [
       "  client_id bint client_name bvarchar(40) branch_id bint\n",
       "0            400       Dunmore Highschool              2\n",
       "1            401        Lackawana Country              2\n",
       "2            402                    FedEx              3\n",
       "3            403       John Daly Law, LLC              3\n",
       "4            404      Scranton Whitepages              2\n",
       "5            405          Times Newspaper              3\n",
       "6            406                    FedEx              2"
      ]
     },
     "execution_count": 76,
     "metadata": {},
     "output_type": "execute_result"
    }
   ],
   "source": [
    "sqlTable_to_pd('companydatabase','client')"
   ]
  },
  {
   "cell_type": "markdown",
   "metadata": {},
   "source": [
    "<p style=\"text-align:center\">Insert values into 'works_with' table</p>\n",
    "<div style=\"border:1px solid green\"></div>"
   ]
  },
  {
   "cell_type": "code",
   "execution_count": 78,
   "metadata": {},
   "outputs": [
    {
     "name": "stdout",
     "output_type": "stream",
     "text": [
      "emp_id\n",
      "client_id\n",
      "total_sales\n"
     ]
    }
   ],
   "source": [
    "describe_table('companydatabase' , 'works_with')"
   ]
  },
  {
   "cell_type": "code",
   "execution_count": 79,
   "metadata": {},
   "outputs": [
    {
     "name": "stdout",
     "output_type": "stream",
     "text": [
      "9 was inserted.\n"
     ]
    }
   ],
   "source": [
    "sql = \"INSERT INTO works_with (emp_id , client_id , \\\n",
    "        total_sales) \\\n",
    "        VALUES (%s , %s , %s)\"\n",
    "\n",
    "val = [\n",
    "  (105,  400 , 55000),\n",
    "  (102,  401 , 267000),\n",
    "  (108,  402 , 22500),\n",
    "  (107,  403 , 5000),\n",
    "  (108,  403 , 12000),\n",
    "  (105,  404 , 33000),\n",
    "  (107,  405 , 26000),\n",
    "  (102,  406 , 3),\n",
    "  (105,  406 , 2)\n",
    "]\n",
    "mycursor.executemany(sql, val)\n",
    "mydb.commit()\n",
    "print(mycursor.rowcount, \"was inserted.\")"
   ]
  },
  {
   "cell_type": "code",
   "execution_count": 80,
   "metadata": {},
   "outputs": [
    {
     "data": {
      "text/html": [
       "<div>\n",
       "<style scoped>\n",
       "    .dataframe tbody tr th:only-of-type {\n",
       "        vertical-align: middle;\n",
       "    }\n",
       "\n",
       "    .dataframe tbody tr th {\n",
       "        vertical-align: top;\n",
       "    }\n",
       "\n",
       "    .dataframe thead th {\n",
       "        text-align: right;\n",
       "    }\n",
       "</style>\n",
       "<table border=\"1\" class=\"dataframe\">\n",
       "  <thead>\n",
       "    <tr style=\"text-align: right;\">\n",
       "      <th></th>\n",
       "      <th>emp_id bint</th>\n",
       "      <th>client_id bint</th>\n",
       "      <th>total_sales bint</th>\n",
       "    </tr>\n",
       "  </thead>\n",
       "  <tbody>\n",
       "    <tr>\n",
       "      <th>0</th>\n",
       "      <td>102</td>\n",
       "      <td>401</td>\n",
       "      <td>267000</td>\n",
       "    </tr>\n",
       "    <tr>\n",
       "      <th>1</th>\n",
       "      <td>102</td>\n",
       "      <td>406</td>\n",
       "      <td>3</td>\n",
       "    </tr>\n",
       "    <tr>\n",
       "      <th>2</th>\n",
       "      <td>105</td>\n",
       "      <td>400</td>\n",
       "      <td>55000</td>\n",
       "    </tr>\n",
       "    <tr>\n",
       "      <th>3</th>\n",
       "      <td>105</td>\n",
       "      <td>404</td>\n",
       "      <td>33000</td>\n",
       "    </tr>\n",
       "    <tr>\n",
       "      <th>4</th>\n",
       "      <td>105</td>\n",
       "      <td>406</td>\n",
       "      <td>2</td>\n",
       "    </tr>\n",
       "    <tr>\n",
       "      <th>5</th>\n",
       "      <td>107</td>\n",
       "      <td>403</td>\n",
       "      <td>5000</td>\n",
       "    </tr>\n",
       "    <tr>\n",
       "      <th>6</th>\n",
       "      <td>107</td>\n",
       "      <td>405</td>\n",
       "      <td>26000</td>\n",
       "    </tr>\n",
       "    <tr>\n",
       "      <th>7</th>\n",
       "      <td>108</td>\n",
       "      <td>402</td>\n",
       "      <td>22500</td>\n",
       "    </tr>\n",
       "    <tr>\n",
       "      <th>8</th>\n",
       "      <td>108</td>\n",
       "      <td>403</td>\n",
       "      <td>12000</td>\n",
       "    </tr>\n",
       "  </tbody>\n",
       "</table>\n",
       "</div>"
      ],
      "text/plain": [
       "   emp_id bint  client_id bint  total_sales bint\n",
       "0          102             401            267000\n",
       "1          102             406                 3\n",
       "2          105             400             55000\n",
       "3          105             404             33000\n",
       "4          105             406                 2\n",
       "5          107             403              5000\n",
       "6          107             405             26000\n",
       "7          108             402             22500\n",
       "8          108             403             12000"
      ]
     },
     "execution_count": 80,
     "metadata": {},
     "output_type": "execute_result"
    }
   ],
   "source": [
    "sqlTable_to_pd('companydatabase', 'works_with')"
   ]
  },
  {
   "cell_type": "code",
   "execution_count": 81,
   "metadata": {},
   "outputs": [
    {
     "name": "stdout",
     "output_type": "stream",
     "text": [
      "2 was updated.\n"
     ]
    }
   ],
   "source": [
    "sql = \"UPDATE works_with \\\n",
    "        SET total_sales = %s \\\n",
    "        WHERE emp_id = %s AND client_id = %s\"\n",
    "\n",
    "val = [\n",
    "    (15000  , 102 , 406),\n",
    "    (130000 , 105 , 406),\n",
    "]\n",
    "mycursor.executemany(sql, val)\n",
    "mydb.commit()\n",
    "print(mycursor.rowcount, \"was updated.\")"
   ]
  },
  {
   "cell_type": "code",
   "execution_count": 88,
   "metadata": {},
   "outputs": [
    {
     "data": {
      "text/html": [
       "<div>\n",
       "<style scoped>\n",
       "    .dataframe tbody tr th:only-of-type {\n",
       "        vertical-align: middle;\n",
       "    }\n",
       "\n",
       "    .dataframe tbody tr th {\n",
       "        vertical-align: top;\n",
       "    }\n",
       "\n",
       "    .dataframe thead th {\n",
       "        text-align: right;\n",
       "    }\n",
       "</style>\n",
       "<table border=\"1\" class=\"dataframe\">\n",
       "  <thead>\n",
       "    <tr style=\"text-align: right;\">\n",
       "      <th></th>\n",
       "      <th>emp_id bint</th>\n",
       "      <th>client_id bint</th>\n",
       "      <th>total_sales bint</th>\n",
       "    </tr>\n",
       "  </thead>\n",
       "  <tbody>\n",
       "    <tr>\n",
       "      <th>2</th>\n",
       "      <td>105</td>\n",
       "      <td>400</td>\n",
       "      <td>55000</td>\n",
       "    </tr>\n",
       "    <tr>\n",
       "      <th>0</th>\n",
       "      <td>102</td>\n",
       "      <td>401</td>\n",
       "      <td>267000</td>\n",
       "    </tr>\n",
       "    <tr>\n",
       "      <th>7</th>\n",
       "      <td>108</td>\n",
       "      <td>402</td>\n",
       "      <td>22500</td>\n",
       "    </tr>\n",
       "    <tr>\n",
       "      <th>5</th>\n",
       "      <td>107</td>\n",
       "      <td>403</td>\n",
       "      <td>5000</td>\n",
       "    </tr>\n",
       "    <tr>\n",
       "      <th>8</th>\n",
       "      <td>108</td>\n",
       "      <td>403</td>\n",
       "      <td>12000</td>\n",
       "    </tr>\n",
       "    <tr>\n",
       "      <th>3</th>\n",
       "      <td>105</td>\n",
       "      <td>404</td>\n",
       "      <td>33000</td>\n",
       "    </tr>\n",
       "    <tr>\n",
       "      <th>6</th>\n",
       "      <td>107</td>\n",
       "      <td>405</td>\n",
       "      <td>26000</td>\n",
       "    </tr>\n",
       "    <tr>\n",
       "      <th>1</th>\n",
       "      <td>102</td>\n",
       "      <td>406</td>\n",
       "      <td>15000</td>\n",
       "    </tr>\n",
       "    <tr>\n",
       "      <th>4</th>\n",
       "      <td>105</td>\n",
       "      <td>406</td>\n",
       "      <td>130000</td>\n",
       "    </tr>\n",
       "  </tbody>\n",
       "</table>\n",
       "</div>"
      ],
      "text/plain": [
       "   emp_id bint  client_id bint  total_sales bint\n",
       "2          105             400             55000\n",
       "0          102             401            267000\n",
       "7          108             402             22500\n",
       "5          107             403              5000\n",
       "8          108             403             12000\n",
       "3          105             404             33000\n",
       "6          107             405             26000\n",
       "1          102             406             15000\n",
       "4          105             406            130000"
      ]
     },
     "execution_count": 88,
     "metadata": {},
     "output_type": "execute_result"
    }
   ],
   "source": [
    "sqlTable_to_pd('companydatabase', 'works_with').sort_values(by=['client_id bint'])"
   ]
  },
  {
   "cell_type": "markdown",
   "metadata": {},
   "source": [
    "<p style=\"text-align:center\">Insert values into 'branch_supplier' table</p>\n",
    "<div style=\"border:1px solid green\"></div>"
   ]
  },
  {
   "cell_type": "code",
   "execution_count": 83,
   "metadata": {},
   "outputs": [
    {
     "name": "stdout",
     "output_type": "stream",
     "text": [
      "branch_id\n",
      "supplier_name\n",
      "supply_type\n"
     ]
    }
   ],
   "source": [
    "describe_table('companydatabase' , 'branch_supplier')"
   ]
  },
  {
   "cell_type": "code",
   "execution_count": null,
   "metadata": {},
   "outputs": [],
   "source": [
    "23056"
   ]
  },
  {
   "cell_type": "code",
   "execution_count": 89,
   "metadata": {},
   "outputs": [
    {
     "name": "stdout",
     "output_type": "stream",
     "text": [
      "7 was inserted.\n"
     ]
    }
   ],
   "source": [
    "sql = \"INSERT INTO branch_supplier (branch_id , supplier_name , \\\n",
    "        supply_type) \\\n",
    "        VALUES (%s , %s , %s)\"\n",
    "\n",
    "val = [\n",
    "  (2,  'Hammer Mill'         , 'Paper'),\n",
    "  (2,  'Uni-ball'            , 'Writing Utensils'),\n",
    "  (3,  'Patriot Paper'       , 'Paper'),\n",
    "  (2,  'J.T. Forms & Labels' , 'Custom Forms'),\n",
    "  (3,  'Uni-ball'            , 'Writing Utensils'),\n",
    "  (3,  'Hammer Mill'         , 'Paper'),\n",
    "  (3,  'Stamford Labels'     , 'Custom Forms')\n",
    "] \n",
    "mycursor.executemany(sql, val)\n",
    "mydb.commit()\n",
    "print(mycursor.rowcount, \"was inserted.\")"
   ]
  },
  {
   "cell_type": "code",
   "execution_count": 90,
   "metadata": {},
   "outputs": [
    {
     "data": {
      "text/html": [
       "<div>\n",
       "<style scoped>\n",
       "    .dataframe tbody tr th:only-of-type {\n",
       "        vertical-align: middle;\n",
       "    }\n",
       "\n",
       "    .dataframe tbody tr th {\n",
       "        vertical-align: top;\n",
       "    }\n",
       "\n",
       "    .dataframe thead th {\n",
       "        text-align: right;\n",
       "    }\n",
       "</style>\n",
       "<table border=\"1\" class=\"dataframe\">\n",
       "  <thead>\n",
       "    <tr style=\"text-align: right;\">\n",
       "      <th></th>\n",
       "      <th>branch_id bint</th>\n",
       "      <th>supplier_name bvarchar(40)</th>\n",
       "      <th>supply_type bvarchar(40)</th>\n",
       "    </tr>\n",
       "  </thead>\n",
       "  <tbody>\n",
       "    <tr>\n",
       "      <th>0</th>\n",
       "      <td>2</td>\n",
       "      <td>Hammer Mill</td>\n",
       "      <td>Paper</td>\n",
       "    </tr>\n",
       "    <tr>\n",
       "      <th>1</th>\n",
       "      <td>2</td>\n",
       "      <td>J.T. Forms &amp; Labels</td>\n",
       "      <td>Custom Forms</td>\n",
       "    </tr>\n",
       "    <tr>\n",
       "      <th>2</th>\n",
       "      <td>2</td>\n",
       "      <td>Uni-ball</td>\n",
       "      <td>Writing Utensils</td>\n",
       "    </tr>\n",
       "    <tr>\n",
       "      <th>3</th>\n",
       "      <td>3</td>\n",
       "      <td>Hammer Mill</td>\n",
       "      <td>Paper</td>\n",
       "    </tr>\n",
       "    <tr>\n",
       "      <th>4</th>\n",
       "      <td>3</td>\n",
       "      <td>Patriot Paper</td>\n",
       "      <td>Paper</td>\n",
       "    </tr>\n",
       "    <tr>\n",
       "      <th>5</th>\n",
       "      <td>3</td>\n",
       "      <td>Stamford Labels</td>\n",
       "      <td>Custom Forms</td>\n",
       "    </tr>\n",
       "    <tr>\n",
       "      <th>6</th>\n",
       "      <td>3</td>\n",
       "      <td>Uni-ball</td>\n",
       "      <td>Writing Utensils</td>\n",
       "    </tr>\n",
       "  </tbody>\n",
       "</table>\n",
       "</div>"
      ],
      "text/plain": [
       "  branch_id bint supplier_name bvarchar(40) supply_type bvarchar(40)\n",
       "0              2                Hammer Mill                    Paper\n",
       "1              2        J.T. Forms & Labels             Custom Forms\n",
       "2              2                   Uni-ball         Writing Utensils\n",
       "3              3                Hammer Mill                    Paper\n",
       "4              3              Patriot Paper                    Paper\n",
       "5              3            Stamford Labels             Custom Forms\n",
       "6              3                   Uni-ball         Writing Utensils"
      ]
     },
     "execution_count": 90,
     "metadata": {},
     "output_type": "execute_result"
    }
   ],
   "source": [
    "sqlTable_to_pd('companydatabase', 'branch_supplier')"
   ]
  },
  {
   "cell_type": "markdown",
   "metadata": {},
   "source": [
    "<p style=\"border: 1px solid green; padding: 20px; background: orange; text-align: center \">All created tables</p>"
   ]
  },
  {
   "cell_type": "code",
   "execution_count": 91,
   "metadata": {},
   "outputs": [
    {
     "data": {
      "text/html": [
       "<div>\n",
       "<style scoped>\n",
       "    .dataframe tbody tr th:only-of-type {\n",
       "        vertical-align: middle;\n",
       "    }\n",
       "\n",
       "    .dataframe tbody tr th {\n",
       "        vertical-align: top;\n",
       "    }\n",
       "\n",
       "    .dataframe thead th {\n",
       "        text-align: right;\n",
       "    }\n",
       "</style>\n",
       "<table border=\"1\" class=\"dataframe\">\n",
       "  <thead>\n",
       "    <tr style=\"text-align: right;\">\n",
       "      <th></th>\n",
       "      <th>emp_id bint</th>\n",
       "      <th>first_name bvarchar(40)</th>\n",
       "      <th>last_name bvarchar(40)</th>\n",
       "      <th>birth_day bdate</th>\n",
       "      <th>sex bvarchar(1)</th>\n",
       "      <th>salary bint</th>\n",
       "      <th>super_id bint</th>\n",
       "      <th>branch_id bint</th>\n",
       "    </tr>\n",
       "  </thead>\n",
       "  <tbody>\n",
       "    <tr>\n",
       "      <th>0</th>\n",
       "      <td>100</td>\n",
       "      <td>David</td>\n",
       "      <td>Wallace</td>\n",
       "      <td>1967-11-17</td>\n",
       "      <td>M</td>\n",
       "      <td>250000</td>\n",
       "      <td>None</td>\n",
       "      <td>1</td>\n",
       "    </tr>\n",
       "    <tr>\n",
       "      <th>1</th>\n",
       "      <td>101</td>\n",
       "      <td>Jan</td>\n",
       "      <td>Levinson</td>\n",
       "      <td>1961-05-11</td>\n",
       "      <td>F</td>\n",
       "      <td>110000</td>\n",
       "      <td>100</td>\n",
       "      <td>1</td>\n",
       "    </tr>\n",
       "    <tr>\n",
       "      <th>2</th>\n",
       "      <td>102</td>\n",
       "      <td>Michael</td>\n",
       "      <td>Scott</td>\n",
       "      <td>1964-03-15</td>\n",
       "      <td>M</td>\n",
       "      <td>75000</td>\n",
       "      <td>100</td>\n",
       "      <td>2</td>\n",
       "    </tr>\n",
       "    <tr>\n",
       "      <th>3</th>\n",
       "      <td>103</td>\n",
       "      <td>Angela</td>\n",
       "      <td>Martin</td>\n",
       "      <td>1971-06-25</td>\n",
       "      <td>F</td>\n",
       "      <td>63000</td>\n",
       "      <td>102</td>\n",
       "      <td>2</td>\n",
       "    </tr>\n",
       "    <tr>\n",
       "      <th>4</th>\n",
       "      <td>104</td>\n",
       "      <td>Kelly</td>\n",
       "      <td>Kapoor</td>\n",
       "      <td>1980-02-05</td>\n",
       "      <td>F</td>\n",
       "      <td>55000</td>\n",
       "      <td>102</td>\n",
       "      <td>2</td>\n",
       "    </tr>\n",
       "    <tr>\n",
       "      <th>5</th>\n",
       "      <td>105</td>\n",
       "      <td>Stanley</td>\n",
       "      <td>Hudson</td>\n",
       "      <td>1958-02-19</td>\n",
       "      <td>M</td>\n",
       "      <td>69000</td>\n",
       "      <td>102</td>\n",
       "      <td>2</td>\n",
       "    </tr>\n",
       "    <tr>\n",
       "      <th>6</th>\n",
       "      <td>106</td>\n",
       "      <td>Josh</td>\n",
       "      <td>Porter</td>\n",
       "      <td>1969-09-05</td>\n",
       "      <td>M</td>\n",
       "      <td>78000</td>\n",
       "      <td>100</td>\n",
       "      <td>3</td>\n",
       "    </tr>\n",
       "    <tr>\n",
       "      <th>7</th>\n",
       "      <td>107</td>\n",
       "      <td>Andy</td>\n",
       "      <td>Bernard</td>\n",
       "      <td>1973-07-22</td>\n",
       "      <td>M</td>\n",
       "      <td>65000</td>\n",
       "      <td>106</td>\n",
       "      <td>3</td>\n",
       "    </tr>\n",
       "    <tr>\n",
       "      <th>8</th>\n",
       "      <td>108</td>\n",
       "      <td>Jim</td>\n",
       "      <td>Helpert</td>\n",
       "      <td>1978-10-01</td>\n",
       "      <td>M</td>\n",
       "      <td>71000</td>\n",
       "      <td>106</td>\n",
       "      <td>3</td>\n",
       "    </tr>\n",
       "  </tbody>\n",
       "</table>\n",
       "</div>"
      ],
      "text/plain": [
       "  emp_id bint first_name bvarchar(40) last_name bvarchar(40) birth_day bdate  \\\n",
       "0         100                   David                Wallace      1967-11-17   \n",
       "1         101                     Jan               Levinson      1961-05-11   \n",
       "2         102                 Michael                  Scott      1964-03-15   \n",
       "3         103                  Angela                 Martin      1971-06-25   \n",
       "4         104                   Kelly                 Kapoor      1980-02-05   \n",
       "5         105                 Stanley                 Hudson      1958-02-19   \n",
       "6         106                    Josh                 Porter      1969-09-05   \n",
       "7         107                    Andy                Bernard      1973-07-22   \n",
       "8         108                     Jim                Helpert      1978-10-01   \n",
       "\n",
       "  sex bvarchar(1) salary bint super_id bint branch_id bint  \n",
       "0               M      250000          None              1  \n",
       "1               F      110000           100              1  \n",
       "2               M       75000           100              2  \n",
       "3               F       63000           102              2  \n",
       "4               F       55000           102              2  \n",
       "5               M       69000           102              2  \n",
       "6               M       78000           100              3  \n",
       "7               M       65000           106              3  \n",
       "8               M       71000           106              3  "
      ]
     },
     "execution_count": 91,
     "metadata": {},
     "output_type": "execute_result"
    }
   ],
   "source": [
    "sqlTable_to_pd('companydatabase', 'employee')"
   ]
  },
  {
   "cell_type": "code",
   "execution_count": 92,
   "metadata": {},
   "outputs": [
    {
     "data": {
      "text/html": [
       "<div>\n",
       "<style scoped>\n",
       "    .dataframe tbody tr th:only-of-type {\n",
       "        vertical-align: middle;\n",
       "    }\n",
       "\n",
       "    .dataframe tbody tr th {\n",
       "        vertical-align: top;\n",
       "    }\n",
       "\n",
       "    .dataframe thead th {\n",
       "        text-align: right;\n",
       "    }\n",
       "</style>\n",
       "<table border=\"1\" class=\"dataframe\">\n",
       "  <thead>\n",
       "    <tr style=\"text-align: right;\">\n",
       "      <th></th>\n",
       "      <th>branch_id bint</th>\n",
       "      <th>branch_name bvarchar(40)</th>\n",
       "      <th>mgr_id bint</th>\n",
       "      <th>mgr_start_date bdate</th>\n",
       "    </tr>\n",
       "  </thead>\n",
       "  <tbody>\n",
       "    <tr>\n",
       "      <th>0</th>\n",
       "      <td>1</td>\n",
       "      <td>Corporate</td>\n",
       "      <td>100</td>\n",
       "      <td>2006-02-09</td>\n",
       "    </tr>\n",
       "    <tr>\n",
       "      <th>1</th>\n",
       "      <td>2</td>\n",
       "      <td>Scranton</td>\n",
       "      <td>102</td>\n",
       "      <td>1992-04-06</td>\n",
       "    </tr>\n",
       "    <tr>\n",
       "      <th>2</th>\n",
       "      <td>3</td>\n",
       "      <td>Stamford</td>\n",
       "      <td>106</td>\n",
       "      <td>1998-02-13</td>\n",
       "    </tr>\n",
       "  </tbody>\n",
       "</table>\n",
       "</div>"
      ],
      "text/plain": [
       "  branch_id bint branch_name bvarchar(40) mgr_id bint mgr_start_date bdate\n",
       "0              1                Corporate         100           2006-02-09\n",
       "1              2                 Scranton         102           1992-04-06\n",
       "2              3                 Stamford         106           1998-02-13"
      ]
     },
     "execution_count": 92,
     "metadata": {},
     "output_type": "execute_result"
    }
   ],
   "source": [
    "sqlTable_to_pd('companydatabase', 'branch')"
   ]
  },
  {
   "cell_type": "code",
   "execution_count": 93,
   "metadata": {},
   "outputs": [
    {
     "data": {
      "text/html": [
       "<div>\n",
       "<style scoped>\n",
       "    .dataframe tbody tr th:only-of-type {\n",
       "        vertical-align: middle;\n",
       "    }\n",
       "\n",
       "    .dataframe tbody tr th {\n",
       "        vertical-align: top;\n",
       "    }\n",
       "\n",
       "    .dataframe thead th {\n",
       "        text-align: right;\n",
       "    }\n",
       "</style>\n",
       "<table border=\"1\" class=\"dataframe\">\n",
       "  <thead>\n",
       "    <tr style=\"text-align: right;\">\n",
       "      <th></th>\n",
       "      <th>client_id bint</th>\n",
       "      <th>client_name bvarchar(40)</th>\n",
       "      <th>branch_id bint</th>\n",
       "    </tr>\n",
       "  </thead>\n",
       "  <tbody>\n",
       "    <tr>\n",
       "      <th>0</th>\n",
       "      <td>400</td>\n",
       "      <td>Dunmore Highschool</td>\n",
       "      <td>2</td>\n",
       "    </tr>\n",
       "    <tr>\n",
       "      <th>1</th>\n",
       "      <td>401</td>\n",
       "      <td>Lackawana Country</td>\n",
       "      <td>2</td>\n",
       "    </tr>\n",
       "    <tr>\n",
       "      <th>2</th>\n",
       "      <td>402</td>\n",
       "      <td>FedEx</td>\n",
       "      <td>3</td>\n",
       "    </tr>\n",
       "    <tr>\n",
       "      <th>3</th>\n",
       "      <td>403</td>\n",
       "      <td>John Daly Law, LLC</td>\n",
       "      <td>3</td>\n",
       "    </tr>\n",
       "    <tr>\n",
       "      <th>4</th>\n",
       "      <td>404</td>\n",
       "      <td>Scranton Whitepages</td>\n",
       "      <td>2</td>\n",
       "    </tr>\n",
       "    <tr>\n",
       "      <th>5</th>\n",
       "      <td>405</td>\n",
       "      <td>Times Newspaper</td>\n",
       "      <td>3</td>\n",
       "    </tr>\n",
       "    <tr>\n",
       "      <th>6</th>\n",
       "      <td>406</td>\n",
       "      <td>FedEx</td>\n",
       "      <td>2</td>\n",
       "    </tr>\n",
       "  </tbody>\n",
       "</table>\n",
       "</div>"
      ],
      "text/plain": [
       "  client_id bint client_name bvarchar(40) branch_id bint\n",
       "0            400       Dunmore Highschool              2\n",
       "1            401        Lackawana Country              2\n",
       "2            402                    FedEx              3\n",
       "3            403       John Daly Law, LLC              3\n",
       "4            404      Scranton Whitepages              2\n",
       "5            405          Times Newspaper              3\n",
       "6            406                    FedEx              2"
      ]
     },
     "execution_count": 93,
     "metadata": {},
     "output_type": "execute_result"
    }
   ],
   "source": [
    "sqlTable_to_pd('companydatabase', 'client')"
   ]
  },
  {
   "cell_type": "code",
   "execution_count": 94,
   "metadata": {},
   "outputs": [
    {
     "data": {
      "text/html": [
       "<div>\n",
       "<style scoped>\n",
       "    .dataframe tbody tr th:only-of-type {\n",
       "        vertical-align: middle;\n",
       "    }\n",
       "\n",
       "    .dataframe tbody tr th {\n",
       "        vertical-align: top;\n",
       "    }\n",
       "\n",
       "    .dataframe thead th {\n",
       "        text-align: right;\n",
       "    }\n",
       "</style>\n",
       "<table border=\"1\" class=\"dataframe\">\n",
       "  <thead>\n",
       "    <tr style=\"text-align: right;\">\n",
       "      <th></th>\n",
       "      <th>emp_id bint</th>\n",
       "      <th>client_id bint</th>\n",
       "      <th>total_sales bint</th>\n",
       "    </tr>\n",
       "  </thead>\n",
       "  <tbody>\n",
       "    <tr>\n",
       "      <th>0</th>\n",
       "      <td>102</td>\n",
       "      <td>401</td>\n",
       "      <td>267000</td>\n",
       "    </tr>\n",
       "    <tr>\n",
       "      <th>1</th>\n",
       "      <td>102</td>\n",
       "      <td>406</td>\n",
       "      <td>15000</td>\n",
       "    </tr>\n",
       "    <tr>\n",
       "      <th>2</th>\n",
       "      <td>105</td>\n",
       "      <td>400</td>\n",
       "      <td>55000</td>\n",
       "    </tr>\n",
       "    <tr>\n",
       "      <th>3</th>\n",
       "      <td>105</td>\n",
       "      <td>404</td>\n",
       "      <td>33000</td>\n",
       "    </tr>\n",
       "    <tr>\n",
       "      <th>4</th>\n",
       "      <td>105</td>\n",
       "      <td>406</td>\n",
       "      <td>130000</td>\n",
       "    </tr>\n",
       "    <tr>\n",
       "      <th>5</th>\n",
       "      <td>107</td>\n",
       "      <td>403</td>\n",
       "      <td>5000</td>\n",
       "    </tr>\n",
       "    <tr>\n",
       "      <th>6</th>\n",
       "      <td>107</td>\n",
       "      <td>405</td>\n",
       "      <td>26000</td>\n",
       "    </tr>\n",
       "    <tr>\n",
       "      <th>7</th>\n",
       "      <td>108</td>\n",
       "      <td>402</td>\n",
       "      <td>22500</td>\n",
       "    </tr>\n",
       "    <tr>\n",
       "      <th>8</th>\n",
       "      <td>108</td>\n",
       "      <td>403</td>\n",
       "      <td>12000</td>\n",
       "    </tr>\n",
       "  </tbody>\n",
       "</table>\n",
       "</div>"
      ],
      "text/plain": [
       "   emp_id bint  client_id bint  total_sales bint\n",
       "0          102             401            267000\n",
       "1          102             406             15000\n",
       "2          105             400             55000\n",
       "3          105             404             33000\n",
       "4          105             406            130000\n",
       "5          107             403              5000\n",
       "6          107             405             26000\n",
       "7          108             402             22500\n",
       "8          108             403             12000"
      ]
     },
     "execution_count": 94,
     "metadata": {},
     "output_type": "execute_result"
    }
   ],
   "source": [
    "sqlTable_to_pd('companydatabase', 'works_with')"
   ]
  },
  {
   "cell_type": "code",
   "execution_count": 95,
   "metadata": {},
   "outputs": [
    {
     "data": {
      "text/html": [
       "<div>\n",
       "<style scoped>\n",
       "    .dataframe tbody tr th:only-of-type {\n",
       "        vertical-align: middle;\n",
       "    }\n",
       "\n",
       "    .dataframe tbody tr th {\n",
       "        vertical-align: top;\n",
       "    }\n",
       "\n",
       "    .dataframe thead th {\n",
       "        text-align: right;\n",
       "    }\n",
       "</style>\n",
       "<table border=\"1\" class=\"dataframe\">\n",
       "  <thead>\n",
       "    <tr style=\"text-align: right;\">\n",
       "      <th></th>\n",
       "      <th>branch_id bint</th>\n",
       "      <th>supplier_name bvarchar(40)</th>\n",
       "      <th>supply_type bvarchar(40)</th>\n",
       "    </tr>\n",
       "  </thead>\n",
       "  <tbody>\n",
       "    <tr>\n",
       "      <th>0</th>\n",
       "      <td>2</td>\n",
       "      <td>Hammer Mill</td>\n",
       "      <td>Paper</td>\n",
       "    </tr>\n",
       "    <tr>\n",
       "      <th>1</th>\n",
       "      <td>2</td>\n",
       "      <td>J.T. Forms &amp; Labels</td>\n",
       "      <td>Custom Forms</td>\n",
       "    </tr>\n",
       "    <tr>\n",
       "      <th>2</th>\n",
       "      <td>2</td>\n",
       "      <td>Uni-ball</td>\n",
       "      <td>Writing Utensils</td>\n",
       "    </tr>\n",
       "    <tr>\n",
       "      <th>3</th>\n",
       "      <td>3</td>\n",
       "      <td>Hammer Mill</td>\n",
       "      <td>Paper</td>\n",
       "    </tr>\n",
       "    <tr>\n",
       "      <th>4</th>\n",
       "      <td>3</td>\n",
       "      <td>Patriot Paper</td>\n",
       "      <td>Paper</td>\n",
       "    </tr>\n",
       "    <tr>\n",
       "      <th>5</th>\n",
       "      <td>3</td>\n",
       "      <td>Stamford Labels</td>\n",
       "      <td>Custom Forms</td>\n",
       "    </tr>\n",
       "    <tr>\n",
       "      <th>6</th>\n",
       "      <td>3</td>\n",
       "      <td>Uni-ball</td>\n",
       "      <td>Writing Utensils</td>\n",
       "    </tr>\n",
       "  </tbody>\n",
       "</table>\n",
       "</div>"
      ],
      "text/plain": [
       "  branch_id bint supplier_name bvarchar(40) supply_type bvarchar(40)\n",
       "0              2                Hammer Mill                    Paper\n",
       "1              2        J.T. Forms & Labels             Custom Forms\n",
       "2              2                   Uni-ball         Writing Utensils\n",
       "3              3                Hammer Mill                    Paper\n",
       "4              3              Patriot Paper                    Paper\n",
       "5              3            Stamford Labels             Custom Forms\n",
       "6              3                   Uni-ball         Writing Utensils"
      ]
     },
     "execution_count": 95,
     "metadata": {},
     "output_type": "execute_result"
    }
   ],
   "source": [
    "sqlTable_to_pd('companydatabase', 'branch_supplier')"
   ]
  },
  {
   "cell_type": "markdown",
   "metadata": {},
   "source": [
    "<p style=\"border: 1px solid green; padding: 20px; background: orange; text-align: center \">Sql prompts</p>"
   ]
  },
  {
   "cell_type": "code",
   "execution_count": 101,
   "metadata": {},
   "outputs": [
    {
     "name": "stdout",
     "output_type": "stream",
     "text": [
      "(100, 'David', 'Wallace', datetime.date(1967, 11, 17), 'M', 250000, None, 1)\n",
      "(101, 'Jan', 'Levinson', datetime.date(1961, 5, 11), 'F', 110000, 100, 1)\n",
      "(102, 'Michael', 'Scott', datetime.date(1964, 3, 15), 'M', 75000, 100, 2)\n",
      "(103, 'Angela', 'Martin', datetime.date(1971, 6, 25), 'F', 63000, 102, 2)\n",
      "(104, 'Kelly', 'Kapoor', datetime.date(1980, 2, 5), 'F', 55000, 102, 2)\n"
     ]
    }
   ],
   "source": [
    "\"Find first five employees\"\n",
    "sql = \"SELECT * \\\n",
    "  FROM employee \\\n",
    "  ORDER BY emp_id \\\n",
    "  LIMIT 5\"\n",
    "mycursor.execute(sql)\n",
    "myresult = mycursor.fetchall()\n",
    "for x in myresult:\n",
    "  print(x)"
   ]
  },
  {
   "cell_type": "code",
   "execution_count": 104,
   "metadata": {},
   "outputs": [
    {
     "name": "stdout",
     "output_type": "stream",
     "text": [
      "('M',)\n",
      "('F',)\n"
     ]
    }
   ],
   "source": [
    "\"Find out all different genders\"\n",
    "sql = \"SELECT DISTINCT sex \\\n",
    "  FROM employee\"\n",
    "mycursor.execute(sql)\n",
    "myresult = mycursor.fetchall()\n",
    "for x in myresult:\n",
    "  print(x)"
   ]
  },
  {
   "cell_type": "markdown",
   "metadata": {},
   "source": [
    "<p style=\"border: 1px solid green; padding: 20px; background: orange; text-align: center \">Sql functions</p>"
   ]
  },
  {
   "cell_type": "code",
   "execution_count": 105,
   "metadata": {},
   "outputs": [
    {
     "name": "stdout",
     "output_type": "stream",
     "text": [
      "(9,)\n"
     ]
    }
   ],
   "source": [
    "\"Find the number of employees\"\n",
    "sql = \"SELECT COUNT(emp_id) \\\n",
    "  FROM employee\"\n",
    "mycursor.execute(sql)\n",
    "myresult = mycursor.fetchall()\n",
    "for x in myresult:\n",
    "  print(x)"
   ]
  },
  {
   "cell_type": "code",
   "execution_count": 107,
   "metadata": {},
   "outputs": [
    {
     "name": "stdout",
     "output_type": "stream",
     "text": [
      "(8,)\n"
     ]
    }
   ],
   "source": [
    "\"Find the number of employees with supervisors\"\n",
    "sql = \"SELECT COUNT(super_id) \\\n",
    "  FROM employee\"\n",
    "mycursor.execute(sql)\n",
    "myresult = mycursor.fetchall()\n",
    "for x in myresult:\n",
    "  print(x)"
   ]
  },
  {
   "cell_type": "code",
   "execution_count": 112,
   "metadata": {},
   "outputs": [
    {
     "name": "stdout",
     "output_type": "stream",
     "text": [
      "(2,)\n"
     ]
    }
   ],
   "source": [
    "\"Find the numer of female employees born after 1970\"\n",
    "sql = \"SELECT COUNT(emp_id) \\\n",
    "  FROM employee \\\n",
    "  WHERE sex  = 'F' AND birth_day > '1970-12-31'\"\n",
    "mycursor.execute(sql)\n",
    "myresult = mycursor.fetchall()\n",
    "for x in myresult:\n",
    "  print(x)"
   ]
  },
  {
   "cell_type": "code",
   "execution_count": 115,
   "metadata": {},
   "outputs": [
    {
     "name": "stdout",
     "output_type": "stream",
     "text": [
      "(Decimal('101333.3333'),)\n"
     ]
    }
   ],
   "source": [
    "\"Find the average salary of all male employees\"\n",
    "sql = \"SELECT AVG(salary) \\\n",
    "  FROM employee \\\n",
    "  WHERE sex = 'M'\"\n",
    "mycursor.execute(sql)\n",
    "myresult = mycursor.fetchall()\n",
    "for x in myresult:\n",
    "  print(x)"
   ]
  },
  {
   "cell_type": "code",
   "execution_count": 116,
   "metadata": {},
   "outputs": [
    {
     "name": "stdout",
     "output_type": "stream",
     "text": [
      "(Decimal('228000'),)\n"
     ]
    }
   ],
   "source": [
    "\"Find the salary sum of all female employees\"\n",
    "sql = \"SELECT SUM(salary) \\\n",
    "  FROM employee \\\n",
    "  WHERE sex = 'F'\"\n",
    "mycursor.execute(sql)\n",
    "myresult = mycursor.fetchall()\n",
    "for x in myresult:\n",
    "  print(x)"
   ]
  },
  {
   "cell_type": "code",
   "execution_count": 120,
   "metadata": {},
   "outputs": [
    {
     "name": "stdout",
     "output_type": "stream",
     "text": [
      "(6, 'M')\n",
      "(3, 'F')\n"
     ]
    }
   ],
   "source": [
    "\"Find the number of each males and females\"\n",
    "sql = \"SELECT COUNT(sex), sex \\\n",
    "  FROM employee \\\n",
    "  GROUP By sex\"\n",
    "mycursor.execute(sql)\n",
    "myresult = mycursor.fetchall()\n",
    "for x in myresult:\n",
    "  print(x)"
   ]
  },
  {
   "cell_type": "code",
   "execution_count": 121,
   "metadata": {},
   "outputs": [
    {
     "name": "stdout",
     "output_type": "stream",
     "text": [
      "(Decimal('282000'), 102)\n",
      "(Decimal('218000'), 105)\n",
      "(Decimal('31000'), 107)\n",
      "(Decimal('34500'), 108)\n"
     ]
    }
   ],
   "source": [
    "\"Find the total sales of each salesperson\"\n",
    "sql = \"SELECT SUM(total_sales), emp_id \\\n",
    "  FROM works_with \\\n",
    "  GROUP By emp_id\"\n",
    "mycursor.execute(sql)\n",
    "myresult = mycursor.fetchall()\n",
    "for x in myresult:\n",
    "  print(x)"
   ]
  },
  {
   "cell_type": "markdown",
   "metadata": {},
   "source": [
    "<p style=\"border: 1px solid green; padding: 20px; background: orange; text-align: center \">Wildcards</p>"
   ]
  },
  {
   "cell_type": "code",
   "execution_count": null,
   "metadata": {},
   "outputs": [],
   "source": [
    "\" % = any number of chars , _ = 1 character\""
   ]
  },
  {
   "cell_type": "code",
   "execution_count": 128,
   "metadata": {},
   "outputs": [
    {
     "name": "stdout",
     "output_type": "stream",
     "text": [
      "(403, 'John Daly Law, LLC', 3)\n"
     ]
    }
   ],
   "source": [
    "\"Find any client who's an LLC\"\n",
    "sql = \"SELECT * \\\n",
    "  FROM client \\\n",
    "  WHERE client_name LIKE '%LLC'\"\n",
    "mycursor.execute(sql)\n",
    "myresult = mycursor.fetchall()\n",
    "for x in myresult:\n",
    "  print(x)"
   ]
  },
  {
   "cell_type": "code",
   "execution_count": 133,
   "metadata": {},
   "outputs": [
    {
     "name": "stdout",
     "output_type": "stream",
     "text": [
      "('Kelly', datetime.date(1980, 2, 5))\n",
      "('Stanley', datetime.date(1958, 2, 19))\n"
     ]
    }
   ],
   "source": [
    "\"Find all employees born in February\"\n",
    "sql = \"SELECT first_name , birth_day \\\n",
    "  FROM employee \\\n",
    "  WHERE birth_day LIKE '____-02-%'\"\n",
    "mycursor.execute(sql)\n",
    "myresult = mycursor.fetchall()\n",
    "for x in myresult:\n",
    "  print(x)"
   ]
  },
  {
   "cell_type": "markdown",
   "metadata": {},
   "source": [
    "<p style=\"border: 1px solid green; padding: 20px; background: orange; text-align: center \">Union</p>"
   ]
  },
  {
   "cell_type": "code",
   "execution_count": 140,
   "metadata": {},
   "outputs": [
    {
     "name": "stdout",
     "output_type": "stream",
     "text": [
      "('Dunmore Highschool', 2)\n",
      "('Lackawana Country', 2)\n",
      "('FedEx', 3)\n",
      "('John Daly Law, LLC', 3)\n",
      "('Scranton Whitepages', 2)\n",
      "('Times Newspaper', 3)\n",
      "('FedEx', 2)\n",
      "('Hammer Mill', 2)\n",
      "('J.T. Forms & Labels', 2)\n",
      "('Uni-ball', 2)\n",
      "('Hammer Mill', 3)\n",
      "('Patriot Paper', 3)\n",
      "('Stamford Labels', 3)\n",
      "('Uni-ball', 3)\n"
     ]
    }
   ],
   "source": [
    "\"Return a list of all clients and branch suppliers' names with branch ids they're associated with\"\n",
    "sql = \"SELECT client_name AS external_names , client.branch_id \\\n",
    "  FROM client \\\n",
    "  UNION \\\n",
    "  SELECT supplier_name , branch_supplier.branch_id \\\n",
    "  FROM branch_supplier \\\n",
    "  \"\n",
    "mycursor.execute(sql)\n",
    "myresult = mycursor.fetchall()\n",
    "for x in myresult:\n",
    "  print(x)"
   ]
  },
  {
   "cell_type": "code",
   "execution_count": 150,
   "metadata": {},
   "outputs": [
    {
     "name": "stdout",
     "output_type": "stream",
     "text": [
      "(250000,)\n",
      "(110000,)\n",
      "(75000,)\n",
      "(63000,)\n",
      "(55000,)\n",
      "(69000,)\n",
      "(78000,)\n",
      "(65000,)\n",
      "(71000,)\n",
      "(267000,)\n",
      "(15000,)\n",
      "(33000,)\n",
      "(130000,)\n",
      "(5000,)\n",
      "(26000,)\n",
      "(22500,)\n",
      "(12000,)\n"
     ]
    }
   ],
   "source": [
    "\"Return a list of all money spent or earned by the company\"\n",
    "sql = \"SELECT salary \\\n",
    "  FROM employee \\\n",
    "  UNION \\\n",
    "  SELECT total_sales\\\n",
    "  FROM works_with \\\n",
    "  \"\n",
    "mycursor.execute(sql)\n",
    "myresult = mycursor.fetchall()\n",
    "for x in myresult:\n",
    "  print(x)"
   ]
  },
  {
   "cell_type": "markdown",
   "metadata": {},
   "source": [
    "<p style=\"border: 1px solid green; padding: 20px; background: orange; text-align: center \">Joins</p>"
   ]
  },
  {
   "cell_type": "code",
   "execution_count": 152,
   "metadata": {},
   "outputs": [
    {
     "name": "stdout",
     "output_type": "stream",
     "text": [
      "1 was inserted.\n"
     ]
    }
   ],
   "source": [
    "sql = \"INSERT INTO branch (branch_id , branch_name , \\\n",
    "        mgr_id , mgr_start_date) \\\n",
    "        VALUES (%s , %s , %s , %s)\"\n",
    "\n",
    "val = [\n",
    "  (4,  'Buffalo', None , None ),\n",
    "] \n",
    "mycursor.executemany(sql, val)\n",
    "mydb.commit()\n",
    "print(mycursor.rowcount, \"was inserted.\")"
   ]
  },
  {
   "cell_type": "code",
   "execution_count": 153,
   "metadata": {},
   "outputs": [
    {
     "data": {
      "text/html": [
       "<div>\n",
       "<style scoped>\n",
       "    .dataframe tbody tr th:only-of-type {\n",
       "        vertical-align: middle;\n",
       "    }\n",
       "\n",
       "    .dataframe tbody tr th {\n",
       "        vertical-align: top;\n",
       "    }\n",
       "\n",
       "    .dataframe thead th {\n",
       "        text-align: right;\n",
       "    }\n",
       "</style>\n",
       "<table border=\"1\" class=\"dataframe\">\n",
       "  <thead>\n",
       "    <tr style=\"text-align: right;\">\n",
       "      <th></th>\n",
       "      <th>branch_id bint</th>\n",
       "      <th>branch_name bvarchar(40)</th>\n",
       "      <th>mgr_id bint</th>\n",
       "      <th>mgr_start_date bdate</th>\n",
       "    </tr>\n",
       "  </thead>\n",
       "  <tbody>\n",
       "    <tr>\n",
       "      <th>0</th>\n",
       "      <td>1</td>\n",
       "      <td>Corporate</td>\n",
       "      <td>100</td>\n",
       "      <td>2006-02-09</td>\n",
       "    </tr>\n",
       "    <tr>\n",
       "      <th>1</th>\n",
       "      <td>2</td>\n",
       "      <td>Scranton</td>\n",
       "      <td>102</td>\n",
       "      <td>1992-04-06</td>\n",
       "    </tr>\n",
       "    <tr>\n",
       "      <th>2</th>\n",
       "      <td>3</td>\n",
       "      <td>Stamford</td>\n",
       "      <td>106</td>\n",
       "      <td>1998-02-13</td>\n",
       "    </tr>\n",
       "    <tr>\n",
       "      <th>3</th>\n",
       "      <td>4</td>\n",
       "      <td>Buffalo</td>\n",
       "      <td>None</td>\n",
       "      <td>None</td>\n",
       "    </tr>\n",
       "  </tbody>\n",
       "</table>\n",
       "</div>"
      ],
      "text/plain": [
       "  branch_id bint branch_name bvarchar(40) mgr_id bint mgr_start_date bdate\n",
       "0              1                Corporate         100           2006-02-09\n",
       "1              2                 Scranton         102           1992-04-06\n",
       "2              3                 Stamford         106           1998-02-13\n",
       "3              4                  Buffalo        None                 None"
      ]
     },
     "execution_count": 153,
     "metadata": {},
     "output_type": "execute_result"
    }
   ],
   "source": [
    "sqlTable_to_pd('companydatabase', 'branch')"
   ]
  },
  {
   "cell_type": "code",
   "execution_count": 160,
   "metadata": {},
   "outputs": [
    {
     "name": "stdout",
     "output_type": "stream",
     "text": [
      "(100, 'David', 'Corporate')\n",
      "(102, 'Michael', 'Scranton')\n",
      "(106, 'Josh', 'Stamford')\n"
     ]
    }
   ],
   "source": [
    "\"Find all branches and the names of their managers\"\n",
    "# inner join\n",
    "sql = \"SELECT employee.emp_id , employee.first_name , branch.branch_name \\\n",
    "  FROM employee \\\n",
    "  INNER JOIN branch \\\n",
    "  ON employee.emp_id = branch.mgr_id \\\n",
    "  \"\n",
    "mycursor.execute(sql)\n",
    "myresult = mycursor.fetchall()\n",
    "for x in myresult:\n",
    "  print(x)"
   ]
  },
  {
   "cell_type": "markdown",
   "metadata": {},
   "source": [
    "<p style=\"border: 1px solid green; padding: 20px; background: orange; text-align: center \">Nested quiries</p>"
   ]
  },
  {
   "cell_type": "code",
   "execution_count": 24,
   "metadata": {},
   "outputs": [],
   "source": [
    "mydb = mysql.connector.connect(\n",
    "  host=\"localhost\",\n",
    "  user=user,\n",
    "  password=ppw,\n",
    "  database=\"companydatabase\"\n",
    ")\n",
    "mycursor = mydb.cursor()"
   ]
  },
  {
   "cell_type": "code",
   "execution_count": 9,
   "metadata": {},
   "outputs": [
    {
     "name": "stdout",
     "output_type": "stream",
     "text": [
      "('Michael', 'Scott')\n",
      "('Stanley', 'Hudson')\n"
     ]
    }
   ],
   "source": [
    "\"Find names of all employees with more than 30k sales to a single client\"\n",
    "sql = \"\\\n",
    "  SELECT employee.first_name , employee.last_name\\\n",
    "  FROM employee\\\n",
    "  WHERE employee.emp_id IN (\\\n",
    "      SELECT works_with.emp_id \\\n",
    "      FROM works_with \\\n",
    "      WHERE works_with.total_sales > 30000) \\\n",
    "  \"\n",
    "mycursor.execute(sql)\n",
    "myresult = mycursor.fetchall()\n",
    "for x in myresult:\n",
    "  print(x)"
   ]
  },
  {
   "cell_type": "code",
   "execution_count": 38,
   "metadata": {},
   "outputs": [
    {
     "name": "stdout",
     "output_type": "stream",
     "text": [
      "('Dunmore Highschool',)\n",
      "('Lackawana Country',)\n",
      "('Scranton Whitepages',)\n",
      "('FedEx',)\n"
     ]
    }
   ],
   "source": [
    "\"Find names of all employees with more than 30k sales to a single client\"\n",
    "sql = \"SELECT client.client_name\\\n",
    "  FROM client\\\n",
    "  WHERE client.branch_id IN(\\\n",
    "      SELECT branch.branch_id\\\n",
    "      FROM branch\\\n",
    "      WHERE branch.mgr_id = 102)\"\n",
    "\n",
    "mycursor.execute(sql)\n",
    "myresult = mycursor.fetchall()\n",
    "for x in myresult:\n",
    "  print(x)"
   ]
  },
  {
   "cell_type": "markdown",
   "metadata": {},
   "source": [
    "<p style=\"border: 1px solid green; padding: 20px; background: orange; text-align: center \">On delete</p>"
   ]
  },
  {
   "cell_type": "code",
   "execution_count": null,
   "metadata": {},
   "outputs": [],
   "source": [
    "# ON DELETE SET NULL : i.e. deleting an employee whos a supervisor to x employees will leave these x employees with\n",
    "# supervisor set to NULL"
   ]
  },
  {
   "cell_type": "code",
   "execution_count": null,
   "metadata": {},
   "outputs": [],
   "source": [
    "# ON DELETE CASCADE : i.e. deleting an facebook user will also delete all their posts and comments instead of setting the\n",
    "# post author to NULL as opposed to \"ON DELETE SET NULL\" "
   ]
  },
  {
   "cell_type": "markdown",
   "metadata": {},
   "source": [
    "<p style=\"border: 1px solid green; padding: 20px; background: orange; text-align: center \">Triggers</p>"
   ]
  },
  {
   "cell_type": "code",
   "execution_count": 43,
   "metadata": {},
   "outputs": [
    {
     "name": "stdout",
     "output_type": "stream",
     "text": [
      "('branch',)\n",
      "('branch_supplier',)\n",
      "('client',)\n",
      "('employee',)\n",
      "('trigger_test',)\n",
      "('works_with',)\n"
     ]
    }
   ],
   "source": [
    "sql = \"CREATE TABLE trigger_test (\\\n",
    "    message VARCHAR(100)\\\n",
    "    )\"\n",
    "\n",
    "mycursor.execute(sql)\n",
    "mycursor.execute(\"SHOW TABLES\")\n",
    "\n",
    "for x in mycursor:\n",
    "  print(x)"
   ]
  },
  {
   "cell_type": "code",
   "execution_count": null,
   "metadata": {},
   "outputs": [],
   "source": [
    "sql = \"\"\"\\\n",
    "CREATE \\\n",
    "    TRIGGER my_trigger BEFORE INSERT \\\n",
    "    ON employee \\\n",
    "    FOR EACH ROW BEGIN \\\n",
    "        INSERT INTO trigger_test VALUES('added new employee'); \\\n",
    "    END;\n",
    "\"\"\"\n",
    "mycursor.execute(sql)"
   ]
  },
  {
   "cell_type": "code",
   "execution_count": 12,
   "metadata": {},
   "outputs": [
    {
     "name": "stdout",
     "output_type": "stream",
     "text": [
      "('my_trigger', 'INSERT', 'employee', b\"BEGIN         INSERT INTO trigger_test VALUES('added new employee');     END\", 'BEFORE', datetime.datetime(2021, 1, 5, 13, 44, 2, 66), {'NO_ENGINE_SUBSTITUTION', 'STRICT_TRANS_TABLES'}, 'root@localhost', 'utf8mb4', 'utf8mb4_0900_ai_ci', 'utf8mb4_0900_ai_ci')\n"
     ]
    }
   ],
   "source": [
    "mycursor.execute(\"SHOW TRIGGERS\")\n",
    "for x in mycursor:\n",
    "  print(x)"
   ]
  },
  {
   "cell_type": "code",
   "execution_count": 13,
   "metadata": {},
   "outputs": [
    {
     "name": "stdout",
     "output_type": "stream",
     "text": [
      "1 was inserted.\n"
     ]
    }
   ],
   "source": [
    "sql = \"\"\"\\\n",
    "INSERT INTO employee \\\n",
    "VALUES(109 , 'Oscar' , 'Martinez' , '1968-02-19' , 'M' , 69000 , 106 , 3)\\\n",
    "\"\"\"\n",
    "mycursor.execute(sql)\n",
    "mydb.commit()\n",
    "print(mycursor.rowcount, \"was inserted.\")"
   ]
  },
  {
   "cell_type": "code",
   "execution_count": 16,
   "metadata": {},
   "outputs": [
    {
     "data": {
      "text/html": [
       "<div>\n",
       "<style scoped>\n",
       "    .dataframe tbody tr th:only-of-type {\n",
       "        vertical-align: middle;\n",
       "    }\n",
       "\n",
       "    .dataframe tbody tr th {\n",
       "        vertical-align: top;\n",
       "    }\n",
       "\n",
       "    .dataframe thead th {\n",
       "        text-align: right;\n",
       "    }\n",
       "</style>\n",
       "<table border=\"1\" class=\"dataframe\">\n",
       "  <thead>\n",
       "    <tr style=\"text-align: right;\">\n",
       "      <th></th>\n",
       "      <th>emp_id bint</th>\n",
       "      <th>first_name bvarchar(40)</th>\n",
       "      <th>last_name bvarchar(40)</th>\n",
       "      <th>birth_day bdate</th>\n",
       "      <th>sex bvarchar(1)</th>\n",
       "      <th>salary bint</th>\n",
       "      <th>super_id bint</th>\n",
       "      <th>branch_id bint</th>\n",
       "    </tr>\n",
       "  </thead>\n",
       "  <tbody>\n",
       "    <tr>\n",
       "      <th>0</th>\n",
       "      <td>100</td>\n",
       "      <td>David</td>\n",
       "      <td>Wallace</td>\n",
       "      <td>1967-11-17</td>\n",
       "      <td>M</td>\n",
       "      <td>250000</td>\n",
       "      <td>None</td>\n",
       "      <td>1</td>\n",
       "    </tr>\n",
       "    <tr>\n",
       "      <th>1</th>\n",
       "      <td>101</td>\n",
       "      <td>Jan</td>\n",
       "      <td>Levinson</td>\n",
       "      <td>1961-05-11</td>\n",
       "      <td>F</td>\n",
       "      <td>110000</td>\n",
       "      <td>100</td>\n",
       "      <td>1</td>\n",
       "    </tr>\n",
       "    <tr>\n",
       "      <th>2</th>\n",
       "      <td>102</td>\n",
       "      <td>Michael</td>\n",
       "      <td>Scott</td>\n",
       "      <td>1964-03-15</td>\n",
       "      <td>M</td>\n",
       "      <td>75000</td>\n",
       "      <td>100</td>\n",
       "      <td>2</td>\n",
       "    </tr>\n",
       "    <tr>\n",
       "      <th>3</th>\n",
       "      <td>103</td>\n",
       "      <td>Angela</td>\n",
       "      <td>Martin</td>\n",
       "      <td>1971-06-25</td>\n",
       "      <td>F</td>\n",
       "      <td>63000</td>\n",
       "      <td>102</td>\n",
       "      <td>2</td>\n",
       "    </tr>\n",
       "    <tr>\n",
       "      <th>4</th>\n",
       "      <td>104</td>\n",
       "      <td>Kelly</td>\n",
       "      <td>Kapoor</td>\n",
       "      <td>1980-02-05</td>\n",
       "      <td>F</td>\n",
       "      <td>55000</td>\n",
       "      <td>102</td>\n",
       "      <td>2</td>\n",
       "    </tr>\n",
       "    <tr>\n",
       "      <th>5</th>\n",
       "      <td>105</td>\n",
       "      <td>Stanley</td>\n",
       "      <td>Hudson</td>\n",
       "      <td>1958-02-19</td>\n",
       "      <td>M</td>\n",
       "      <td>69000</td>\n",
       "      <td>102</td>\n",
       "      <td>2</td>\n",
       "    </tr>\n",
       "    <tr>\n",
       "      <th>6</th>\n",
       "      <td>106</td>\n",
       "      <td>Josh</td>\n",
       "      <td>Porter</td>\n",
       "      <td>1969-09-05</td>\n",
       "      <td>M</td>\n",
       "      <td>78000</td>\n",
       "      <td>100</td>\n",
       "      <td>3</td>\n",
       "    </tr>\n",
       "    <tr>\n",
       "      <th>7</th>\n",
       "      <td>107</td>\n",
       "      <td>Andy</td>\n",
       "      <td>Bernard</td>\n",
       "      <td>1973-07-22</td>\n",
       "      <td>M</td>\n",
       "      <td>65000</td>\n",
       "      <td>106</td>\n",
       "      <td>3</td>\n",
       "    </tr>\n",
       "    <tr>\n",
       "      <th>8</th>\n",
       "      <td>108</td>\n",
       "      <td>Jim</td>\n",
       "      <td>Helpert</td>\n",
       "      <td>1978-10-01</td>\n",
       "      <td>M</td>\n",
       "      <td>71000</td>\n",
       "      <td>106</td>\n",
       "      <td>3</td>\n",
       "    </tr>\n",
       "    <tr>\n",
       "      <th>9</th>\n",
       "      <td>109</td>\n",
       "      <td>Oscar</td>\n",
       "      <td>Martinez</td>\n",
       "      <td>1968-02-19</td>\n",
       "      <td>M</td>\n",
       "      <td>69000</td>\n",
       "      <td>106</td>\n",
       "      <td>3</td>\n",
       "    </tr>\n",
       "  </tbody>\n",
       "</table>\n",
       "</div>"
      ],
      "text/plain": [
       "  emp_id bint first_name bvarchar(40) last_name bvarchar(40) birth_day bdate  \\\n",
       "0         100                   David                Wallace      1967-11-17   \n",
       "1         101                     Jan               Levinson      1961-05-11   \n",
       "2         102                 Michael                  Scott      1964-03-15   \n",
       "3         103                  Angela                 Martin      1971-06-25   \n",
       "4         104                   Kelly                 Kapoor      1980-02-05   \n",
       "5         105                 Stanley                 Hudson      1958-02-19   \n",
       "6         106                    Josh                 Porter      1969-09-05   \n",
       "7         107                    Andy                Bernard      1973-07-22   \n",
       "8         108                     Jim                Helpert      1978-10-01   \n",
       "9         109                   Oscar               Martinez      1968-02-19   \n",
       "\n",
       "  sex bvarchar(1) salary bint super_id bint branch_id bint  \n",
       "0               M      250000          None              1  \n",
       "1               F      110000           100              1  \n",
       "2               M       75000           100              2  \n",
       "3               F       63000           102              2  \n",
       "4               F       55000           102              2  \n",
       "5               M       69000           102              2  \n",
       "6               M       78000           100              3  \n",
       "7               M       65000           106              3  \n",
       "8               M       71000           106              3  \n",
       "9               M       69000           106              3  "
      ]
     },
     "execution_count": 16,
     "metadata": {},
     "output_type": "execute_result"
    }
   ],
   "source": [
    "sqlTable_to_pd('companydatabase', 'employee')"
   ]
  },
  {
   "cell_type": "code",
   "execution_count": 17,
   "metadata": {},
   "outputs": [
    {
     "data": {
      "text/html": [
       "<div>\n",
       "<style scoped>\n",
       "    .dataframe tbody tr th:only-of-type {\n",
       "        vertical-align: middle;\n",
       "    }\n",
       "\n",
       "    .dataframe tbody tr th {\n",
       "        vertical-align: top;\n",
       "    }\n",
       "\n",
       "    .dataframe thead th {\n",
       "        text-align: right;\n",
       "    }\n",
       "</style>\n",
       "<table border=\"1\" class=\"dataframe\">\n",
       "  <thead>\n",
       "    <tr style=\"text-align: right;\">\n",
       "      <th></th>\n",
       "      <th>message bvarchar(100)</th>\n",
       "    </tr>\n",
       "  </thead>\n",
       "  <tbody>\n",
       "    <tr>\n",
       "      <th>0</th>\n",
       "      <td>added new employee</td>\n",
       "    </tr>\n",
       "  </tbody>\n",
       "</table>\n",
       "</div>"
      ],
      "text/plain": [
       "  message bvarchar(100)\n",
       "0    added new employee"
      ]
     },
     "execution_count": 17,
     "metadata": {},
     "output_type": "execute_result"
    }
   ],
   "source": [
    "sqlTable_to_pd('companydatabase', 'trigger_test')"
   ]
  },
  {
   "cell_type": "code",
   "execution_count": 19,
   "metadata": {},
   "outputs": [],
   "source": [
    "sql = \"\"\"\\\n",
    "CREATE \\\n",
    "    TRIGGER my_trigger1 BEFORE INSERT \\\n",
    "    ON employee \\\n",
    "    FOR EACH ROW BEGIN \\\n",
    "        INSERT INTO trigger_test VALUES(NEW.first_name); \\\n",
    "    END;\n",
    "\"\"\"\n",
    "mycursor.execute(sql)"
   ]
  },
  {
   "cell_type": "code",
   "execution_count": 25,
   "metadata": {},
   "outputs": [
    {
     "name": "stdout",
     "output_type": "stream",
     "text": [
      "('my_trigger', 'INSERT', 'employee', b\"BEGIN         INSERT INTO trigger_test VALUES('added new employee');     END\", 'BEFORE', datetime.datetime(2021, 1, 5, 13, 44, 2, 66), {'NO_ENGINE_SUBSTITUTION', 'STRICT_TRANS_TABLES'}, 'root@localhost', 'utf8mb4', 'utf8mb4_0900_ai_ci', 'utf8mb4_0900_ai_ci')\n",
      "('my_trigger1', 'INSERT', 'employee', b'BEGIN         INSERT INTO trigger_test VALUES(NEW.first_name);     END', 'BEFORE', datetime.datetime(2021, 1, 5, 14, 5, 1, 23), {'NO_ENGINE_SUBSTITUTION', 'STRICT_TRANS_TABLES'}, 'root@localhost', 'utf8mb4', 'utf8mb4_0900_ai_ci', 'utf8mb4_0900_ai_ci')\n"
     ]
    }
   ],
   "source": [
    "mycursor.execute(\"SHOW TRIGGERS\")\n",
    "for x in mycursor:\n",
    "  print(x)"
   ]
  },
  {
   "cell_type": "code",
   "execution_count": 26,
   "metadata": {},
   "outputs": [
    {
     "name": "stdout",
     "output_type": "stream",
     "text": [
      "1 was inserted.\n"
     ]
    }
   ],
   "source": [
    "sql = \"\"\"\\\n",
    "INSERT INTO employee \\\n",
    "VALUES(110 , 'Kevin' , 'Malone' , '1978-02-19' , 'M' , 69000 , 106 , 3)\\\n",
    "\"\"\"\n",
    "mycursor.execute(sql)\n",
    "mydb.commit()\n",
    "print(mycursor.rowcount, \"was inserted.\")"
   ]
  },
  {
   "cell_type": "code",
   "execution_count": 27,
   "metadata": {},
   "outputs": [
    {
     "data": {
      "text/html": [
       "<div>\n",
       "<style scoped>\n",
       "    .dataframe tbody tr th:only-of-type {\n",
       "        vertical-align: middle;\n",
       "    }\n",
       "\n",
       "    .dataframe tbody tr th {\n",
       "        vertical-align: top;\n",
       "    }\n",
       "\n",
       "    .dataframe thead th {\n",
       "        text-align: right;\n",
       "    }\n",
       "</style>\n",
       "<table border=\"1\" class=\"dataframe\">\n",
       "  <thead>\n",
       "    <tr style=\"text-align: right;\">\n",
       "      <th></th>\n",
       "      <th>message bvarchar(100)</th>\n",
       "    </tr>\n",
       "  </thead>\n",
       "  <tbody>\n",
       "    <tr>\n",
       "      <th>0</th>\n",
       "      <td>added new employee</td>\n",
       "    </tr>\n",
       "    <tr>\n",
       "      <th>1</th>\n",
       "      <td>added new employee</td>\n",
       "    </tr>\n",
       "    <tr>\n",
       "      <th>2</th>\n",
       "      <td>Kevin</td>\n",
       "    </tr>\n",
       "  </tbody>\n",
       "</table>\n",
       "</div>"
      ],
      "text/plain": [
       "  message bvarchar(100)\n",
       "0    added new employee\n",
       "1    added new employee\n",
       "2                 Kevin"
      ]
     },
     "execution_count": 27,
     "metadata": {},
     "output_type": "execute_result"
    }
   ],
   "source": [
    "sqlTable_to_pd('companydatabase', 'trigger_test')"
   ]
  },
  {
   "cell_type": "code",
   "execution_count": 28,
   "metadata": {},
   "outputs": [],
   "source": [
    "sql = \"\"\"\\\n",
    "CREATE \\\n",
    "    TRIGGER my_trigger2 BEFORE INSERT \\\n",
    "    ON employee \\\n",
    "    FOR EACH ROW BEGIN \\\n",
    "        IF NEW.sex = 'M' THEN \\\n",
    "            INSERT INTO trigger_test VALUES('added male employee'); \\\n",
    "        ELSEIF NEW.sex = 'F' THEN \\\n",
    "            INSERT INTO trigger_test VALUES('added female employee'); \\\n",
    "        ELSE \\\n",
    "            INSERT INTO trigger_test VALUES('added another employee'); \\\n",
    "        END IF; \\\n",
    "    END; \\\n",
    "\"\"\"\n",
    "mycursor.execute(sql)\n",
    "\n",
    "# Could also use AFTER DELETE trigger"
   ]
  },
  {
   "cell_type": "code",
   "execution_count": 29,
   "metadata": {},
   "outputs": [
    {
     "name": "stdout",
     "output_type": "stream",
     "text": [
      "('my_trigger', 'INSERT', 'employee', b\"BEGIN         INSERT INTO trigger_test VALUES('added new employee');     END\", 'BEFORE', datetime.datetime(2021, 1, 5, 13, 44, 2, 66), {'NO_ENGINE_SUBSTITUTION', 'STRICT_TRANS_TABLES'}, 'root@localhost', 'utf8mb4', 'utf8mb4_0900_ai_ci', 'utf8mb4_0900_ai_ci')\n",
      "('my_trigger1', 'INSERT', 'employee', b'BEGIN         INSERT INTO trigger_test VALUES(NEW.first_name);     END', 'BEFORE', datetime.datetime(2021, 1, 5, 14, 5, 1, 23), {'NO_ENGINE_SUBSTITUTION', 'STRICT_TRANS_TABLES'}, 'root@localhost', 'utf8mb4', 'utf8mb4_0900_ai_ci', 'utf8mb4_0900_ai_ci')\n",
      "('my_trigger2', 'INSERT', 'employee', b\"BEGIN         IF NEW.sex = 'M' THEN             INSERT INTO trigger_test VALUES('added male employee');         ELSEIF NEW.sex = 'F' THEN             INSERT INTO trigger_test VALUES('added female employee');         ELSE             INSERT INTO trigger_test VALUES('added another employee');         END IF;     END\", 'BEFORE', datetime.datetime(2021, 1, 5, 14, 15, 55, 18), {'NO_ENGINE_SUBSTITUTION', 'STRICT_TRANS_TABLES'}, 'root@localhost', 'utf8mb4', 'utf8mb4_0900_ai_ci', 'utf8mb4_0900_ai_ci')\n"
     ]
    }
   ],
   "source": [
    "mycursor.execute(\"SHOW TRIGGERS\")\n",
    "for x in mycursor:\n",
    "  print(x)"
   ]
  },
  {
   "cell_type": "code",
   "execution_count": 30,
   "metadata": {},
   "outputs": [
    {
     "name": "stdout",
     "output_type": "stream",
     "text": [
      "1 was inserted.\n"
     ]
    }
   ],
   "source": [
    "sql = \"\"\"\\\n",
    "INSERT INTO employee \\\n",
    "VALUES(111 , 'Pam' , 'Beesly' , '1988-02-19' , 'F' , 69000 , 106 , 3)\\\n",
    "\"\"\"\n",
    "mycursor.execute(sql)\n",
    "mydb.commit()\n",
    "print(mycursor.rowcount, \"was inserted.\")"
   ]
  },
  {
   "cell_type": "code",
   "execution_count": 31,
   "metadata": {},
   "outputs": [
    {
     "data": {
      "text/html": [
       "<div>\n",
       "<style scoped>\n",
       "    .dataframe tbody tr th:only-of-type {\n",
       "        vertical-align: middle;\n",
       "    }\n",
       "\n",
       "    .dataframe tbody tr th {\n",
       "        vertical-align: top;\n",
       "    }\n",
       "\n",
       "    .dataframe thead th {\n",
       "        text-align: right;\n",
       "    }\n",
       "</style>\n",
       "<table border=\"1\" class=\"dataframe\">\n",
       "  <thead>\n",
       "    <tr style=\"text-align: right;\">\n",
       "      <th></th>\n",
       "      <th>message bvarchar(100)</th>\n",
       "    </tr>\n",
       "  </thead>\n",
       "  <tbody>\n",
       "    <tr>\n",
       "      <th>0</th>\n",
       "      <td>added new employee</td>\n",
       "    </tr>\n",
       "    <tr>\n",
       "      <th>1</th>\n",
       "      <td>added new employee</td>\n",
       "    </tr>\n",
       "    <tr>\n",
       "      <th>2</th>\n",
       "      <td>Kevin</td>\n",
       "    </tr>\n",
       "    <tr>\n",
       "      <th>3</th>\n",
       "      <td>added new employee</td>\n",
       "    </tr>\n",
       "    <tr>\n",
       "      <th>4</th>\n",
       "      <td>Pam</td>\n",
       "    </tr>\n",
       "    <tr>\n",
       "      <th>5</th>\n",
       "      <td>added female employee</td>\n",
       "    </tr>\n",
       "  </tbody>\n",
       "</table>\n",
       "</div>"
      ],
      "text/plain": [
       "   message bvarchar(100)\n",
       "0     added new employee\n",
       "1     added new employee\n",
       "2                  Kevin\n",
       "3     added new employee\n",
       "4                    Pam\n",
       "5  added female employee"
      ]
     },
     "execution_count": 31,
     "metadata": {},
     "output_type": "execute_result"
    }
   ],
   "source": [
    "sqlTable_to_pd('companydatabase', 'trigger_test')"
   ]
  },
  {
   "cell_type": "markdown",
   "metadata": {},
   "source": [
    " <p style=\"border: 1px solid green; padding: 20px; background: orange; text-align: center \">Entity Relationship (ER) Diagrams</p>"
   ]
  },
  {
   "cell_type": "markdown",
   "metadata": {},
   "source": [
    "<div style=\"border:1px solid green;\"></div>\n",
    "<div style=\"background:grey;\">\n",
    "<h1>Entity</h1>\n",
    "<ul>\n",
    "    <li> An object that we want to model and store information about</li>\n",
    "</ul>\n",
    "</div>\n",
    "\n",
    "<img src='images/entity.PNG'></img>\n",
    "\n",
    "<div style=\"border:1px solid green;\"></div>"
   ]
  },
  {
   "cell_type": "markdown",
   "metadata": {},
   "source": [
    "<div style=\"border:1px solid green;\"></div>\n",
    "<div style=\"background:grey;\">\n",
    "<h1>Attributes</h1>\n",
    "<ul>\n",
    "    <li> Specific pieces of information about an entity </li>\n",
    "</ul>\n",
    "</div>\n",
    "\n",
    "<img src='images/attributes.PNG'></img>\n",
    "\n",
    "<div style=\"border:1px solid green;\"></div>"
   ]
  },
  {
   "cell_type": "markdown",
   "metadata": {},
   "source": [
    "<div style=\"border:1px solid green;\"></div>\n",
    "<div style=\"background:grey;\">\n",
    "<h1>Primary key</h1>\n",
    "<ul>\n",
    "    <li> Atrribute(s) that uniquely identify an entry in the database table </li>\n",
    "</ul>\n",
    "</div>\n",
    "\n",
    "<img src='images/primaryKey.PNG'></img>\n",
    "\n",
    "<div style=\"border:1px solid green;\"></div>"
   ]
  },
  {
   "cell_type": "markdown",
   "metadata": {},
   "source": [
    "<div style=\"border:1px solid green;\"></div>\n",
    "<div style=\"background:grey;\">\n",
    "<h1>Composite attribute</h1>\n",
    "<ul>\n",
    "    <li> An attribute that can be broken up into sub-categories </li>\n",
    "</ul>\n",
    "</div>\n",
    "\n",
    "<img src='images/compositeAttributes.PNG'></img>\n",
    "\n",
    "<div style=\"border:1px solid green;\"></div>"
   ]
  },
  {
   "cell_type": "markdown",
   "metadata": {},
   "source": [
    "<div style=\"border:1px solid green;\"></div>\n",
    "<div style=\"background:grey;\">\n",
    "<h1>Multi-valued attribute</h1>\n",
    "<ul>\n",
    "    <li> An attribute that can have more than one value </li>\n",
    "</ul>\n",
    "</div>\n",
    "\n",
    "<img src='images/multivaluedAttributes.PNG'></img>\n",
    "\n",
    "<div style=\"border:1px solid green;\"></div>"
   ]
  },
  {
   "cell_type": "markdown",
   "metadata": {},
   "source": [
    "<div style=\"border:1px solid green;\"></div>\n",
    "<div style=\"background:grey;\">\n",
    "<h1>Derived attribute</h1>\n",
    "<ul>\n",
    "    <li> An attribute that can be derived from other attributes </li>\n",
    "</ul>\n",
    "</div>\n",
    "\n",
    "<img src='images/derivedAttributes.PNG'></img>\n",
    "\n",
    "<div style=\"border:1px solid green;\"></div>"
   ]
  },
  {
   "cell_type": "markdown",
   "metadata": {},
   "source": [
    "<div style=\"border:1px solid green;\"></div>\n",
    "<div style=\"background:grey;\">\n",
    "<h1>Multiple entities</h1>\n",
    "<ul>\n",
    "    <li> You can define more than one entity in the diagram </li>\n",
    "</ul>\n",
    "</div>\n",
    "\n",
    "<img src='images/multipleEntities.PNG'></img>\n",
    "\n",
    "<div style=\"border:1px solid green;\"></div>"
   ]
  },
  {
   "cell_type": "markdown",
   "metadata": {},
   "source": [
    "<div style=\"border:1px solid green;\"></div>\n",
    "<div style=\"background:grey;\">\n",
    "<h1>Relationships</h1>\n",
    "<ul>\n",
    "    <li> Defines a relationship between two entities </li>\n",
    "</ul>\n",
    "\n",
    "<h1>Total parcitipation</h1>\n",
    "<ul>\n",
    "    <li> All members must parcitipate in the relationship </li>\n",
    "</ul>\n",
    "</div>\n",
    "\n",
    "<img src='images/relationshipsAndParcitipation.PNG'></img>\n",
    "\n",
    "<div style=\"border:1px solid green;\"></div>"
   ]
  },
  {
   "cell_type": "code",
   "execution_count": 45,
   "metadata": {},
   "outputs": [
    {
     "data": {
      "text/plain": [
       "'Sigle line - partial parcitipation ; Double line - total parcitipation'"
      ]
     },
     "execution_count": 45,
     "metadata": {},
     "output_type": "execute_result"
    }
   ],
   "source": [
    "\"Sigle line - partial parcitipation ;\\\n",
    " Double line - total parcitipation\""
   ]
  },
  {
   "cell_type": "markdown",
   "metadata": {},
   "source": [
    "<div style=\"border:1px solid green;\"></div>\n",
    "<div style=\"background:grey;\">\n",
    "<h1>Relationship attribute</h1>\n",
    "<ul>\n",
    "    <li> An attribute about the relationship </li>\n",
    "</ul>\n",
    "</div>\n",
    "\n",
    "<img src='images/relationshipAttribute.PNG'></img>\n",
    "\n",
    "<div style=\"border:1px solid green;\"></div>"
   ]
  },
  {
   "cell_type": "markdown",
   "metadata": {},
   "source": [
    "<div style=\"border:1px solid green;\"></div>\n",
    "<div style=\"background:grey;\">\n",
    "<h1>Relationship cardinality</h1>\n",
    "<ul>\n",
    "    <li> The number of instances of an entity from a relation than can be associated with the relation </li>\n",
    "</ul>\n",
    "</div>\n",
    "\n",
    "<img src='images/relationshipCardinality.PNG'></img><br>\n",
    "\n",
    "<div style=\"border:1px solid green;\"></div>"
   ]
  },
  {
   "cell_type": "markdown",
   "metadata": {},
   "source": [
    "<div style=\"border:1px solid green;\"></div>\n",
    "<div style=\"background:grey;\">\n",
    "\n",
    "<h1>Weak entity</h1>\n",
    "<ul>\n",
    "    <li> An entity that cannot be uniquely identified by its attributes alone </li>\n",
    "</ul>\n",
    "\n",
    "<h1>Identifying relationship</h1>\n",
    "<ul>\n",
    "    <li> A relationship that serves to uniquely identify a weak entity </li>\n",
    "</ul>\n",
    "\n",
    "</div>\n",
    "\n",
    "<img src='images/weakEntity.PNG'></img><br>\n",
    "\n",
    "<div style=\"border:1px solid green;\"></div>"
   ]
  },
  {
   "cell_type": "markdown",
   "metadata": {},
   "source": [
    "<div style=\"border:1px solid green;\"></div>\n",
    "<div style=\"background:grey;\">\n",
    "\n",
    "<h1>Designed in mindmaps with limited drawing resources</h1>\n",
    "<ul>\n",
    "    <li> A company diagram </li>\n",
    "</ul>\n",
    "\n",
    "</div>\n",
    "\n",
    "<img src='images/ERDiagram.PNG'></img><br>\n",
    "\n",
    "<div style=\"border:1px solid green;\"></div>"
   ]
  },
  {
   "cell_type": "code",
   "execution_count": null,
   "metadata": {},
   "outputs": [],
   "source": []
  }
 ],
 "metadata": {
  "kernelspec": {
   "display_name": "Python 3",
   "language": "python",
   "name": "python3"
  },
  "language_info": {
   "codemirror_mode": {
    "name": "ipython",
    "version": 3
   },
   "file_extension": ".py",
   "mimetype": "text/x-python",
   "name": "python",
   "nbconvert_exporter": "python",
   "pygments_lexer": "ipython3",
   "version": "3.7.6"
  }
 },
 "nbformat": 4,
 "nbformat_minor": 4
}
